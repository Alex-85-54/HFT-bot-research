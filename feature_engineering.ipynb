{
 "cells": [
  {
   "cell_type": "markdown",
   "id": "5e3200ad",
   "metadata": {},
   "source": [
    "# Создание фичей"
   ]
  },
  {
   "cell_type": "markdown",
   "id": "8182ab9b",
   "metadata": {},
   "source": [
    "## Импорт библиотек"
   ]
  },
  {
   "cell_type": "code",
   "execution_count": 2,
   "id": "9d5d52c9",
   "metadata": {},
   "outputs": [],
   "source": [
    "from binance.client import Client\n",
    "from binance.um_futures import UMFutures\n",
    "from binance.websocket.um_futures.websocket_client import UMFuturesWebsocketClient\n",
    "from binance.lib.utils import config_logging\n",
    "import pandas as pd\n",
    "import numpy as np\n",
    "import talib\n",
    "import keys\n",
    "import time\n",
    "from datetime import datetime\n",
    "from pytz import timezone\n",
    "import logging\n",
    "import requests\n",
    "import json\n",
    "import re\n",
    "pd.options.mode.chained_assignment = None # отключение дебильного предупреждения\n",
    "pd.set_option('display.max_columns', None) # показывать максимальное количесвто столбцов"
   ]
  },
  {
   "cell_type": "markdown",
   "id": "1c9c574e",
   "metadata": {},
   "source": [
    "https://github.com/binance/binance-futures-connector-python"
   ]
  },
  {
   "cell_type": "markdown",
   "id": "daabfabf",
   "metadata": {},
   "source": [
    "## Загрузка локальных данных"
   ]
  },
  {
   "cell_type": "code",
   "execution_count": 3,
   "id": "e373b25f",
   "metadata": {},
   "outputs": [],
   "source": [
    "df_1 = pd.read_csv('ds_moodeng_10_06.csv')"
   ]
  },
  {
   "cell_type": "code",
   "execution_count": 4,
   "id": "60312ef4",
   "metadata": {},
   "outputs": [],
   "source": [
    "df_2 = pd.read_csv('ds_moodeng_12_06.csv')"
   ]
  },
  {
   "cell_type": "code",
   "execution_count": 5,
   "id": "50c7ed86",
   "metadata": {},
   "outputs": [],
   "source": [
    "df_3 = pd.read_csv('ds_moodeng_13_06.csv')"
   ]
  },
  {
   "cell_type": "code",
   "execution_count": 6,
   "id": "9d176337",
   "metadata": {},
   "outputs": [
    {
     "data": {
      "text/html": [
       "<div>\n",
       "<style scoped>\n",
       "    .dataframe tbody tr th:only-of-type {\n",
       "        vertical-align: middle;\n",
       "    }\n",
       "\n",
       "    .dataframe tbody tr th {\n",
       "        vertical-align: top;\n",
       "    }\n",
       "\n",
       "    .dataframe thead th {\n",
       "        text-align: right;\n",
       "    }\n",
       "</style>\n",
       "<table border=\"1\" class=\"dataframe\">\n",
       "  <thead>\n",
       "    <tr style=\"text-align: right;\">\n",
       "      <th></th>\n",
       "      <th>mid_price</th>\n",
       "      <th>ask_1</th>\n",
       "      <th>ask_2</th>\n",
       "      <th>ask_3</th>\n",
       "      <th>ask_4</th>\n",
       "      <th>ask_5</th>\n",
       "      <th>ask_6</th>\n",
       "      <th>ask_7</th>\n",
       "      <th>ask_8</th>\n",
       "      <th>ask_9</th>\n",
       "      <th>ask_10</th>\n",
       "      <th>bid_1</th>\n",
       "      <th>bid_2</th>\n",
       "      <th>bid_3</th>\n",
       "      <th>bid_4</th>\n",
       "      <th>bid_5</th>\n",
       "      <th>bid_6</th>\n",
       "      <th>bid_7</th>\n",
       "      <th>bid_8</th>\n",
       "      <th>bid_9</th>\n",
       "      <th>bid_10</th>\n",
       "    </tr>\n",
       "  </thead>\n",
       "  <tbody>\n",
       "    <tr>\n",
       "      <th>0</th>\n",
       "      <td>0.21362</td>\n",
       "      <td>0.0</td>\n",
       "      <td>0.0</td>\n",
       "      <td>0.0</td>\n",
       "      <td>0.0</td>\n",
       "      <td>0.0</td>\n",
       "      <td>0.0</td>\n",
       "      <td>26.0</td>\n",
       "      <td>0.0</td>\n",
       "      <td>3061.0</td>\n",
       "      <td>24.0</td>\n",
       "      <td>0.0</td>\n",
       "      <td>5518.0</td>\n",
       "      <td>2082.0</td>\n",
       "      <td>19713.0</td>\n",
       "      <td>5623.0</td>\n",
       "      <td>8195.0</td>\n",
       "      <td>11100.0</td>\n",
       "      <td>13169.0</td>\n",
       "      <td>12274.0</td>\n",
       "      <td>18951.0</td>\n",
       "    </tr>\n",
       "    <tr>\n",
       "      <th>1</th>\n",
       "      <td>0.21436</td>\n",
       "      <td>4743.0</td>\n",
       "      <td>0.0</td>\n",
       "      <td>111.0</td>\n",
       "      <td>2383.0</td>\n",
       "      <td>8931.0</td>\n",
       "      <td>11723.0</td>\n",
       "      <td>27194.0</td>\n",
       "      <td>11688.0</td>\n",
       "      <td>5483.0</td>\n",
       "      <td>6326.0</td>\n",
       "      <td>3338.0</td>\n",
       "      <td>2090.0</td>\n",
       "      <td>5013.0</td>\n",
       "      <td>3457.0</td>\n",
       "      <td>3701.0</td>\n",
       "      <td>11101.0</td>\n",
       "      <td>11165.0</td>\n",
       "      <td>8857.0</td>\n",
       "      <td>7052.0</td>\n",
       "      <td>1982.0</td>\n",
       "    </tr>\n",
       "  </tbody>\n",
       "</table>\n",
       "</div>"
      ],
      "text/plain": [
       "   mid_price   ask_1  ask_2  ask_3   ask_4   ask_5    ask_6    ask_7    ask_8  \\\n",
       "0    0.21362     0.0    0.0    0.0     0.0     0.0      0.0     26.0      0.0   \n",
       "1    0.21436  4743.0    0.0  111.0  2383.0  8931.0  11723.0  27194.0  11688.0   \n",
       "\n",
       "    ask_9  ask_10   bid_1   bid_2   bid_3    bid_4   bid_5    bid_6    bid_7  \\\n",
       "0  3061.0    24.0     0.0  5518.0  2082.0  19713.0  5623.0   8195.0  11100.0   \n",
       "1  5483.0  6326.0  3338.0  2090.0  5013.0   3457.0  3701.0  11101.0  11165.0   \n",
       "\n",
       "     bid_8    bid_9   bid_10  \n",
       "0  13169.0  12274.0  18951.0  \n",
       "1   8857.0   7052.0   1982.0  "
      ]
     },
     "metadata": {},
     "output_type": "display_data"
    },
    {
     "data": {
      "text/html": [
       "<div>\n",
       "<style scoped>\n",
       "    .dataframe tbody tr th:only-of-type {\n",
       "        vertical-align: middle;\n",
       "    }\n",
       "\n",
       "    .dataframe tbody tr th {\n",
       "        vertical-align: top;\n",
       "    }\n",
       "\n",
       "    .dataframe thead th {\n",
       "        text-align: right;\n",
       "    }\n",
       "</style>\n",
       "<table border=\"1\" class=\"dataframe\">\n",
       "  <thead>\n",
       "    <tr style=\"text-align: right;\">\n",
       "      <th></th>\n",
       "      <th>mid_price</th>\n",
       "      <th>ask_1</th>\n",
       "      <th>ask_2</th>\n",
       "      <th>ask_3</th>\n",
       "      <th>ask_4</th>\n",
       "      <th>ask_5</th>\n",
       "      <th>ask_6</th>\n",
       "      <th>ask_7</th>\n",
       "      <th>ask_8</th>\n",
       "      <th>ask_9</th>\n",
       "      <th>ask_10</th>\n",
       "      <th>bid_1</th>\n",
       "      <th>bid_2</th>\n",
       "      <th>bid_3</th>\n",
       "      <th>bid_4</th>\n",
       "      <th>bid_5</th>\n",
       "      <th>bid_6</th>\n",
       "      <th>bid_7</th>\n",
       "      <th>bid_8</th>\n",
       "      <th>bid_9</th>\n",
       "      <th>bid_10</th>\n",
       "    </tr>\n",
       "  </thead>\n",
       "  <tbody>\n",
       "    <tr>\n",
       "      <th>0</th>\n",
       "      <td>0.252345</td>\n",
       "      <td>3703.0</td>\n",
       "      <td>6265.0</td>\n",
       "      <td>11454.0</td>\n",
       "      <td>14442.0</td>\n",
       "      <td>10746.0</td>\n",
       "      <td>36659.0</td>\n",
       "      <td>14244.0</td>\n",
       "      <td>13852.0</td>\n",
       "      <td>12172.0</td>\n",
       "      <td>25165.0</td>\n",
       "      <td>0.0</td>\n",
       "      <td>0.0</td>\n",
       "      <td>0.0</td>\n",
       "      <td>0.0</td>\n",
       "      <td>1448.0</td>\n",
       "      <td>0.0</td>\n",
       "      <td>27.0</td>\n",
       "      <td>329.0</td>\n",
       "      <td>1027.0</td>\n",
       "      <td>7125.0</td>\n",
       "    </tr>\n",
       "    <tr>\n",
       "      <th>1</th>\n",
       "      <td>0.252185</td>\n",
       "      <td>6745.0</td>\n",
       "      <td>14719.0</td>\n",
       "      <td>17147.0</td>\n",
       "      <td>18057.0</td>\n",
       "      <td>34893.0</td>\n",
       "      <td>16428.0</td>\n",
       "      <td>14392.0</td>\n",
       "      <td>9029.0</td>\n",
       "      <td>21637.0</td>\n",
       "      <td>9566.0</td>\n",
       "      <td>27.0</td>\n",
       "      <td>2160.0</td>\n",
       "      <td>809.0</td>\n",
       "      <td>4309.0</td>\n",
       "      <td>8453.0</td>\n",
       "      <td>9843.0</td>\n",
       "      <td>3184.0</td>\n",
       "      <td>5735.0</td>\n",
       "      <td>4928.0</td>\n",
       "      <td>7680.0</td>\n",
       "    </tr>\n",
       "  </tbody>\n",
       "</table>\n",
       "</div>"
      ],
      "text/plain": [
       "   mid_price   ask_1    ask_2    ask_3    ask_4    ask_5    ask_6    ask_7  \\\n",
       "0   0.252345  3703.0   6265.0  11454.0  14442.0  10746.0  36659.0  14244.0   \n",
       "1   0.252185  6745.0  14719.0  17147.0  18057.0  34893.0  16428.0  14392.0   \n",
       "\n",
       "     ask_8    ask_9   ask_10  bid_1   bid_2  bid_3   bid_4   bid_5   bid_6  \\\n",
       "0  13852.0  12172.0  25165.0    0.0     0.0    0.0     0.0  1448.0     0.0   \n",
       "1   9029.0  21637.0   9566.0   27.0  2160.0  809.0  4309.0  8453.0  9843.0   \n",
       "\n",
       "    bid_7   bid_8   bid_9  bid_10  \n",
       "0    27.0   329.0  1027.0  7125.0  \n",
       "1  3184.0  5735.0  4928.0  7680.0  "
      ]
     },
     "metadata": {},
     "output_type": "display_data"
    },
    {
     "data": {
      "text/html": [
       "<div>\n",
       "<style scoped>\n",
       "    .dataframe tbody tr th:only-of-type {\n",
       "        vertical-align: middle;\n",
       "    }\n",
       "\n",
       "    .dataframe tbody tr th {\n",
       "        vertical-align: top;\n",
       "    }\n",
       "\n",
       "    .dataframe thead th {\n",
       "        text-align: right;\n",
       "    }\n",
       "</style>\n",
       "<table border=\"1\" class=\"dataframe\">\n",
       "  <thead>\n",
       "    <tr style=\"text-align: right;\">\n",
       "      <th></th>\n",
       "      <th>mid_price</th>\n",
       "      <th>ask_1</th>\n",
       "      <th>ask_2</th>\n",
       "      <th>ask_3</th>\n",
       "      <th>ask_4</th>\n",
       "      <th>ask_5</th>\n",
       "      <th>ask_6</th>\n",
       "      <th>ask_7</th>\n",
       "      <th>ask_8</th>\n",
       "      <th>ask_9</th>\n",
       "      <th>ask_10</th>\n",
       "      <th>bid_1</th>\n",
       "      <th>bid_2</th>\n",
       "      <th>bid_3</th>\n",
       "      <th>bid_4</th>\n",
       "      <th>bid_5</th>\n",
       "      <th>bid_6</th>\n",
       "      <th>bid_7</th>\n",
       "      <th>bid_8</th>\n",
       "      <th>bid_9</th>\n",
       "      <th>bid_10</th>\n",
       "    </tr>\n",
       "  </thead>\n",
       "  <tbody>\n",
       "    <tr>\n",
       "      <th>0</th>\n",
       "      <td>0.181320</td>\n",
       "      <td>0.0</td>\n",
       "      <td>0.0</td>\n",
       "      <td>682.0</td>\n",
       "      <td>1181.0</td>\n",
       "      <td>92.0</td>\n",
       "      <td>2260.0</td>\n",
       "      <td>3608.0</td>\n",
       "      <td>12037.0</td>\n",
       "      <td>11999.0</td>\n",
       "      <td>10682.0</td>\n",
       "      <td>19907.0</td>\n",
       "      <td>10880.0</td>\n",
       "      <td>13755.0</td>\n",
       "      <td>11149.0</td>\n",
       "      <td>17445.0</td>\n",
       "      <td>10746.0</td>\n",
       "      <td>10512.0</td>\n",
       "      <td>8913.0</td>\n",
       "      <td>30174.0</td>\n",
       "      <td>18602.0</td>\n",
       "    </tr>\n",
       "    <tr>\n",
       "      <th>1</th>\n",
       "      <td>0.183575</td>\n",
       "      <td>0.0</td>\n",
       "      <td>0.0</td>\n",
       "      <td>0.0</td>\n",
       "      <td>0.0</td>\n",
       "      <td>0.0</td>\n",
       "      <td>0.0</td>\n",
       "      <td>0.0</td>\n",
       "      <td>31.0</td>\n",
       "      <td>0.0</td>\n",
       "      <td>0.0</td>\n",
       "      <td>10164.0</td>\n",
       "      <td>8380.0</td>\n",
       "      <td>9340.0</td>\n",
       "      <td>10859.0</td>\n",
       "      <td>11561.0</td>\n",
       "      <td>19656.0</td>\n",
       "      <td>16396.0</td>\n",
       "      <td>39309.0</td>\n",
       "      <td>15262.0</td>\n",
       "      <td>18617.0</td>\n",
       "    </tr>\n",
       "  </tbody>\n",
       "</table>\n",
       "</div>"
      ],
      "text/plain": [
       "   mid_price  ask_1  ask_2  ask_3   ask_4  ask_5   ask_6   ask_7    ask_8  \\\n",
       "0   0.181320    0.0    0.0  682.0  1181.0   92.0  2260.0  3608.0  12037.0   \n",
       "1   0.183575    0.0    0.0    0.0     0.0    0.0     0.0     0.0     31.0   \n",
       "\n",
       "     ask_9   ask_10    bid_1    bid_2    bid_3    bid_4    bid_5    bid_6  \\\n",
       "0  11999.0  10682.0  19907.0  10880.0  13755.0  11149.0  17445.0  10746.0   \n",
       "1      0.0      0.0  10164.0   8380.0   9340.0  10859.0  11561.0  19656.0   \n",
       "\n",
       "     bid_7    bid_8    bid_9   bid_10  \n",
       "0  10512.0   8913.0  30174.0  18602.0  \n",
       "1  16396.0  39309.0  15262.0  18617.0  "
      ]
     },
     "metadata": {},
     "output_type": "display_data"
    },
    {
     "name": "stdout",
     "output_type": "stream",
     "text": [
      "(19809, 21)\n",
      "(5384, 21)\n",
      "(63221, 21)\n"
     ]
    }
   ],
   "source": [
    "display(df_1.head(2))\n",
    "display(df_2.head(2))\n",
    "display(df_3.head(2))\n",
    "print(df_1.shape)\n",
    "print(df_2.shape)\n",
    "print(df_3.shape)"
   ]
  },
  {
   "cell_type": "markdown",
   "id": "3187de3d",
   "metadata": {},
   "source": [
    "### Объединение датафреймов"
   ]
  },
  {
   "cell_type": "code",
   "execution_count": 7,
   "id": "41db61e7",
   "metadata": {},
   "outputs": [],
   "source": [
    "df = pd.concat([df_1, df_2, df_3]).reset_index(drop=True)"
   ]
  },
  {
   "cell_type": "code",
   "execution_count": 8,
   "id": "ee90e9a4",
   "metadata": {},
   "outputs": [
    {
     "data": {
      "text/plain": [
       "(88414, 21)"
      ]
     },
     "execution_count": 8,
     "metadata": {},
     "output_type": "execute_result"
    }
   ],
   "source": [
    "df.shape"
   ]
  },
  {
   "cell_type": "markdown",
   "id": "b825af21",
   "metadata": {},
   "source": [
    "## Создание новых признаков"
   ]
  },
  {
   "cell_type": "code",
   "execution_count": 9,
   "id": "90284314",
   "metadata": {},
   "outputs": [
    {
     "data": {
      "text/plain": [
       "Index(['mid_price', 'ask_1', 'ask_2', 'ask_3', 'ask_4', 'ask_5', 'ask_6',\n",
       "       'ask_7', 'ask_8', 'ask_9', 'ask_10', 'bid_1', 'bid_2', 'bid_3', 'bid_4',\n",
       "       'bid_5', 'bid_6', 'bid_7', 'bid_8', 'bid_9', 'bid_10'],\n",
       "      dtype='object')"
      ]
     },
     "execution_count": 9,
     "metadata": {},
     "output_type": "execute_result"
    }
   ],
   "source": [
    "df.columns"
   ]
  },
  {
   "cell_type": "code",
   "execution_count": 10,
   "id": "cddd5051",
   "metadata": {},
   "outputs": [],
   "source": [
    "bids = ['bid_1', 'bid_2', 'bid_3', 'bid_4',\n",
    "       'bid_5', 'bid_6', 'bid_7', 'bid_8', 'bid_9', 'bid_10']"
   ]
  },
  {
   "cell_type": "code",
   "execution_count": 11,
   "id": "49c14352",
   "metadata": {},
   "outputs": [],
   "source": [
    "asks = ['ask_1', 'ask_2', 'ask_3', 'ask_4', 'ask_5', 'ask_6',\n",
    "       'ask_7', 'ask_8', 'ask_9', 'ask_10']"
   ]
  },
  {
   "cell_type": "markdown",
   "id": "b7e0f09d",
   "metadata": {},
   "source": [
    "### Имбаланс объемов"
   ]
  },
  {
   "cell_type": "markdown",
   "id": "d1e32ecf",
   "metadata": {},
   "source": [
    "Volume Imbalance = (∑ Bid Size − ∑ Ask Size) / (∑ Bid Size + ∑ Ask Size)"
   ]
  },
  {
   "cell_type": "code",
   "execution_count": 12,
   "id": "9e4d1e55",
   "metadata": {},
   "outputs": [
    {
     "data": {
      "text/html": [
       "<div>\n",
       "<style scoped>\n",
       "    .dataframe tbody tr th:only-of-type {\n",
       "        vertical-align: middle;\n",
       "    }\n",
       "\n",
       "    .dataframe tbody tr th {\n",
       "        vertical-align: top;\n",
       "    }\n",
       "\n",
       "    .dataframe thead th {\n",
       "        text-align: right;\n",
       "    }\n",
       "</style>\n",
       "<table border=\"1\" class=\"dataframe\">\n",
       "  <thead>\n",
       "    <tr style=\"text-align: right;\">\n",
       "      <th></th>\n",
       "      <th>mid_price</th>\n",
       "      <th>ask_1</th>\n",
       "      <th>ask_2</th>\n",
       "      <th>ask_3</th>\n",
       "      <th>ask_4</th>\n",
       "      <th>ask_5</th>\n",
       "      <th>ask_6</th>\n",
       "      <th>ask_7</th>\n",
       "      <th>ask_8</th>\n",
       "      <th>ask_9</th>\n",
       "      <th>ask_10</th>\n",
       "      <th>bid_1</th>\n",
       "      <th>bid_2</th>\n",
       "      <th>bid_3</th>\n",
       "      <th>bid_4</th>\n",
       "      <th>bid_5</th>\n",
       "      <th>bid_6</th>\n",
       "      <th>bid_7</th>\n",
       "      <th>bid_8</th>\n",
       "      <th>bid_9</th>\n",
       "      <th>bid_10</th>\n",
       "    </tr>\n",
       "  </thead>\n",
       "  <tbody>\n",
       "    <tr>\n",
       "      <th>0</th>\n",
       "      <td>0.21362</td>\n",
       "      <td>0.0</td>\n",
       "      <td>0.0</td>\n",
       "      <td>0.0</td>\n",
       "      <td>0.0</td>\n",
       "      <td>0.0</td>\n",
       "      <td>0.0</td>\n",
       "      <td>26.0</td>\n",
       "      <td>0.0</td>\n",
       "      <td>3061.0</td>\n",
       "      <td>24.0</td>\n",
       "      <td>0.0</td>\n",
       "      <td>5518.0</td>\n",
       "      <td>2082.0</td>\n",
       "      <td>19713.0</td>\n",
       "      <td>5623.0</td>\n",
       "      <td>8195.0</td>\n",
       "      <td>11100.0</td>\n",
       "      <td>13169.0</td>\n",
       "      <td>12274.0</td>\n",
       "      <td>18951.0</td>\n",
       "    </tr>\n",
       "    <tr>\n",
       "      <th>1</th>\n",
       "      <td>0.21436</td>\n",
       "      <td>4743.0</td>\n",
       "      <td>0.0</td>\n",
       "      <td>111.0</td>\n",
       "      <td>2383.0</td>\n",
       "      <td>8931.0</td>\n",
       "      <td>11723.0</td>\n",
       "      <td>27194.0</td>\n",
       "      <td>11688.0</td>\n",
       "      <td>5483.0</td>\n",
       "      <td>6326.0</td>\n",
       "      <td>3338.0</td>\n",
       "      <td>2090.0</td>\n",
       "      <td>5013.0</td>\n",
       "      <td>3457.0</td>\n",
       "      <td>3701.0</td>\n",
       "      <td>11101.0</td>\n",
       "      <td>11165.0</td>\n",
       "      <td>8857.0</td>\n",
       "      <td>7052.0</td>\n",
       "      <td>1982.0</td>\n",
       "    </tr>\n",
       "  </tbody>\n",
       "</table>\n",
       "</div>"
      ],
      "text/plain": [
       "   mid_price   ask_1  ask_2  ask_3   ask_4   ask_5    ask_6    ask_7    ask_8  \\\n",
       "0    0.21362     0.0    0.0    0.0     0.0     0.0      0.0     26.0      0.0   \n",
       "1    0.21436  4743.0    0.0  111.0  2383.0  8931.0  11723.0  27194.0  11688.0   \n",
       "\n",
       "    ask_9  ask_10   bid_1   bid_2   bid_3    bid_4   bid_5    bid_6    bid_7  \\\n",
       "0  3061.0    24.0     0.0  5518.0  2082.0  19713.0  5623.0   8195.0  11100.0   \n",
       "1  5483.0  6326.0  3338.0  2090.0  5013.0   3457.0  3701.0  11101.0  11165.0   \n",
       "\n",
       "     bid_8    bid_9   bid_10  \n",
       "0  13169.0  12274.0  18951.0  \n",
       "1   8857.0   7052.0   1982.0  "
      ]
     },
     "execution_count": 12,
     "metadata": {},
     "output_type": "execute_result"
    }
   ],
   "source": [
    "df.head(2)"
   ]
  },
  {
   "cell_type": "code",
   "execution_count": 13,
   "id": "75cf1d76",
   "metadata": {},
   "outputs": [],
   "source": [
    "df['imbalance_vol'] = (df[bids].sum(axis=1) - df[asks].sum(axis=1)) / (df[bids].sum(axis=1) + df[asks].sum(axis=1))"
   ]
  },
  {
   "cell_type": "markdown",
   "id": "2ecaa4b1",
   "metadata": {},
   "source": [
    "Рассчитанный признак должен быть в диапазоне [-1, 1], проверим:"
   ]
  },
  {
   "cell_type": "code",
   "execution_count": 14,
   "id": "402d47e9",
   "metadata": {},
   "outputs": [
    {
     "data": {
      "text/plain": [
       "count    88323.000000\n",
       "mean        -0.014611\n",
       "std          0.533876\n",
       "min         -1.000000\n",
       "25%         -0.403116\n",
       "50%         -0.022153\n",
       "75%          0.365023\n",
       "max          1.000000\n",
       "Name: imbalance_vol, dtype: float64"
      ]
     },
     "execution_count": 14,
     "metadata": {},
     "output_type": "execute_result"
    }
   ],
   "source": [
    "df['imbalance_vol'].describe()"
   ]
  },
  {
   "cell_type": "markdown",
   "id": "f4d1b1c0",
   "metadata": {},
   "source": [
    "### Уровень цены максимального аска/бида"
   ]
  },
  {
   "cell_type": "code",
   "execution_count": 17,
   "id": "7b1582b8",
   "metadata": {},
   "outputs": [],
   "source": [
    "df['max_ask_level'] = df.iloc[:, 1:11].apply(lambda x: df.columns[1:11][x.argmax()], axis = 1).astype(\n",
    "    str).str.extractall('(\\d+)').unstack().fillna('').sum(axis=1).astype(int)"
   ]
  },
  {
   "cell_type": "code",
   "execution_count": 18,
   "id": "02d4c0e6",
   "metadata": {},
   "outputs": [],
   "source": [
    "df['max_bid_level'] = df.iloc[:, 11:21].apply(lambda x: df.columns[11:21][x.argmax()], axis = 1).astype(\n",
    "    str).str.extractall('(\\d+)').unstack().fillna('').sum(axis=1).astype(int)"
   ]
  },
  {
   "cell_type": "code",
   "execution_count": 19,
   "id": "2406b105",
   "metadata": {},
   "outputs": [
    {
     "data": {
      "text/plain": [
       "Index(['bid_1', 'bid_2', 'bid_3', 'bid_4', 'bid_5', 'bid_6', 'bid_7', 'bid_8',\n",
       "       'bid_9', 'bid_10'],\n",
       "      dtype='object')"
      ]
     },
     "execution_count": 19,
     "metadata": {},
     "output_type": "execute_result"
    }
   ],
   "source": [
    "df.columns[11:21]"
   ]
  },
  {
   "cell_type": "code",
   "execution_count": 20,
   "id": "3e26f4c2",
   "metadata": {},
   "outputs": [
    {
     "data": {
      "text/html": [
       "<div>\n",
       "<style scoped>\n",
       "    .dataframe tbody tr th:only-of-type {\n",
       "        vertical-align: middle;\n",
       "    }\n",
       "\n",
       "    .dataframe tbody tr th {\n",
       "        vertical-align: top;\n",
       "    }\n",
       "\n",
       "    .dataframe thead th {\n",
       "        text-align: right;\n",
       "    }\n",
       "</style>\n",
       "<table border=\"1\" class=\"dataframe\">\n",
       "  <thead>\n",
       "    <tr style=\"text-align: right;\">\n",
       "      <th></th>\n",
       "      <th>mid_price</th>\n",
       "      <th>ask_1</th>\n",
       "      <th>ask_2</th>\n",
       "      <th>ask_3</th>\n",
       "      <th>ask_4</th>\n",
       "      <th>ask_5</th>\n",
       "      <th>ask_6</th>\n",
       "      <th>ask_7</th>\n",
       "      <th>ask_8</th>\n",
       "      <th>ask_9</th>\n",
       "      <th>ask_10</th>\n",
       "      <th>bid_1</th>\n",
       "      <th>bid_2</th>\n",
       "      <th>bid_3</th>\n",
       "      <th>bid_4</th>\n",
       "      <th>bid_5</th>\n",
       "      <th>bid_6</th>\n",
       "      <th>bid_7</th>\n",
       "      <th>bid_8</th>\n",
       "      <th>bid_9</th>\n",
       "      <th>bid_10</th>\n",
       "      <th>imbalance_vol</th>\n",
       "      <th>ask_max</th>\n",
       "      <th>bid_max</th>\n",
       "      <th>max_ask_level</th>\n",
       "      <th>max_bid_level</th>\n",
       "    </tr>\n",
       "  </thead>\n",
       "  <tbody>\n",
       "    <tr>\n",
       "      <th>0</th>\n",
       "      <td>0.21362</td>\n",
       "      <td>0.0</td>\n",
       "      <td>0.0</td>\n",
       "      <td>0.0</td>\n",
       "      <td>0.0</td>\n",
       "      <td>0.0</td>\n",
       "      <td>0.0</td>\n",
       "      <td>26.0</td>\n",
       "      <td>0.0</td>\n",
       "      <td>3061.0</td>\n",
       "      <td>24.0</td>\n",
       "      <td>0.0</td>\n",
       "      <td>5518.0</td>\n",
       "      <td>2082.0</td>\n",
       "      <td>19713.0</td>\n",
       "      <td>5623.0</td>\n",
       "      <td>8195.0</td>\n",
       "      <td>11100.0</td>\n",
       "      <td>13169.0</td>\n",
       "      <td>12274.0</td>\n",
       "      <td>18951.0</td>\n",
       "      <td>0.937615</td>\n",
       "      <td>3061.0</td>\n",
       "      <td>19713.0</td>\n",
       "      <td>9</td>\n",
       "      <td>4</td>\n",
       "    </tr>\n",
       "    <tr>\n",
       "      <th>1</th>\n",
       "      <td>0.21436</td>\n",
       "      <td>4743.0</td>\n",
       "      <td>0.0</td>\n",
       "      <td>111.0</td>\n",
       "      <td>2383.0</td>\n",
       "      <td>8931.0</td>\n",
       "      <td>11723.0</td>\n",
       "      <td>27194.0</td>\n",
       "      <td>11688.0</td>\n",
       "      <td>5483.0</td>\n",
       "      <td>6326.0</td>\n",
       "      <td>3338.0</td>\n",
       "      <td>2090.0</td>\n",
       "      <td>5013.0</td>\n",
       "      <td>3457.0</td>\n",
       "      <td>3701.0</td>\n",
       "      <td>11101.0</td>\n",
       "      <td>11165.0</td>\n",
       "      <td>8857.0</td>\n",
       "      <td>7052.0</td>\n",
       "      <td>1982.0</td>\n",
       "      <td>-0.152753</td>\n",
       "      <td>27194.0</td>\n",
       "      <td>11165.0</td>\n",
       "      <td>7</td>\n",
       "      <td>7</td>\n",
       "    </tr>\n",
       "  </tbody>\n",
       "</table>\n",
       "</div>"
      ],
      "text/plain": [
       "   mid_price   ask_1  ask_2  ask_3   ask_4   ask_5    ask_6    ask_7    ask_8  \\\n",
       "0    0.21362     0.0    0.0    0.0     0.0     0.0      0.0     26.0      0.0   \n",
       "1    0.21436  4743.0    0.0  111.0  2383.0  8931.0  11723.0  27194.0  11688.0   \n",
       "\n",
       "    ask_9  ask_10   bid_1   bid_2   bid_3    bid_4   bid_5    bid_6    bid_7  \\\n",
       "0  3061.0    24.0     0.0  5518.0  2082.0  19713.0  5623.0   8195.0  11100.0   \n",
       "1  5483.0  6326.0  3338.0  2090.0  5013.0   3457.0  3701.0  11101.0  11165.0   \n",
       "\n",
       "     bid_8    bid_9   bid_10  imbalance_vol  ask_max  bid_max  max_ask_level  \\\n",
       "0  13169.0  12274.0  18951.0       0.937615   3061.0  19713.0              9   \n",
       "1   8857.0   7052.0   1982.0      -0.152753  27194.0  11165.0              7   \n",
       "\n",
       "   max_bid_level  \n",
       "0              4  \n",
       "1              7  "
      ]
     },
     "execution_count": 20,
     "metadata": {},
     "output_type": "execute_result"
    }
   ],
   "source": [
    "df.head(2)"
   ]
  },
  {
   "cell_type": "markdown",
   "id": "a843bc75",
   "metadata": {},
   "source": [
    "### Среднее значение объемов"
   ]
  },
  {
   "cell_type": "code",
   "execution_count": 21,
   "id": "68fc7055",
   "metadata": {},
   "outputs": [],
   "source": [
    "df['asks_mean'] = df[asks].mean(axis=1)"
   ]
  },
  {
   "cell_type": "code",
   "execution_count": 22,
   "id": "1bc50acf",
   "metadata": {},
   "outputs": [],
   "source": [
    "df['bids_mean'] = df[bids].mean(axis=1)"
   ]
  },
  {
   "cell_type": "markdown",
   "id": "ed9609f0",
   "metadata": {},
   "source": [
    "### Медианное значение объемов"
   ]
  },
  {
   "cell_type": "code",
   "execution_count": 23,
   "id": "92b16974",
   "metadata": {},
   "outputs": [],
   "source": [
    "df['asks_median'] = df[asks].median(axis=1)"
   ]
  },
  {
   "cell_type": "code",
   "execution_count": 24,
   "id": "6c7cf222",
   "metadata": {},
   "outputs": [],
   "source": [
    "df['bids_median'] = df[bids].median(axis=1)"
   ]
  },
  {
   "cell_type": "markdown",
   "id": "e0c25962",
   "metadata": {},
   "source": [
    "### Стандартное отклонение"
   ]
  },
  {
   "cell_type": "code",
   "execution_count": 25,
   "id": "888212bf",
   "metadata": {},
   "outputs": [],
   "source": [
    "df['asks_std'] = df[asks].std(axis=1).round(1)"
   ]
  },
  {
   "cell_type": "code",
   "execution_count": 26,
   "id": "ff96c4f6",
   "metadata": {},
   "outputs": [],
   "source": [
    "df['bids_std'] = df[bids].std(axis=1).round(1)"
   ]
  },
  {
   "cell_type": "code",
   "execution_count": 27,
   "id": "213cd0dd",
   "metadata": {},
   "outputs": [
    {
     "data": {
      "text/html": [
       "<div>\n",
       "<style scoped>\n",
       "    .dataframe tbody tr th:only-of-type {\n",
       "        vertical-align: middle;\n",
       "    }\n",
       "\n",
       "    .dataframe tbody tr th {\n",
       "        vertical-align: top;\n",
       "    }\n",
       "\n",
       "    .dataframe thead th {\n",
       "        text-align: right;\n",
       "    }\n",
       "</style>\n",
       "<table border=\"1\" class=\"dataframe\">\n",
       "  <thead>\n",
       "    <tr style=\"text-align: right;\">\n",
       "      <th></th>\n",
       "      <th>mid_price</th>\n",
       "      <th>ask_1</th>\n",
       "      <th>ask_2</th>\n",
       "      <th>ask_3</th>\n",
       "      <th>ask_4</th>\n",
       "      <th>ask_5</th>\n",
       "      <th>ask_6</th>\n",
       "      <th>ask_7</th>\n",
       "      <th>ask_8</th>\n",
       "      <th>ask_9</th>\n",
       "      <th>ask_10</th>\n",
       "      <th>bid_1</th>\n",
       "      <th>bid_2</th>\n",
       "      <th>bid_3</th>\n",
       "      <th>bid_4</th>\n",
       "      <th>bid_5</th>\n",
       "      <th>bid_6</th>\n",
       "      <th>bid_7</th>\n",
       "      <th>bid_8</th>\n",
       "      <th>bid_9</th>\n",
       "      <th>bid_10</th>\n",
       "      <th>imbalance_vol</th>\n",
       "      <th>ask_max</th>\n",
       "      <th>bid_max</th>\n",
       "      <th>max_ask_level</th>\n",
       "      <th>max_bid_level</th>\n",
       "      <th>asks_mean</th>\n",
       "      <th>bids_mean</th>\n",
       "      <th>asks_median</th>\n",
       "      <th>bids_median</th>\n",
       "      <th>asks_std</th>\n",
       "      <th>bids_std</th>\n",
       "    </tr>\n",
       "  </thead>\n",
       "  <tbody>\n",
       "    <tr>\n",
       "      <th>0</th>\n",
       "      <td>0.21362</td>\n",
       "      <td>0.0</td>\n",
       "      <td>0.0</td>\n",
       "      <td>0.0</td>\n",
       "      <td>0.0</td>\n",
       "      <td>0.0</td>\n",
       "      <td>0.0</td>\n",
       "      <td>26.0</td>\n",
       "      <td>0.0</td>\n",
       "      <td>3061.0</td>\n",
       "      <td>24.0</td>\n",
       "      <td>0.0</td>\n",
       "      <td>5518.0</td>\n",
       "      <td>2082.0</td>\n",
       "      <td>19713.0</td>\n",
       "      <td>5623.0</td>\n",
       "      <td>8195.0</td>\n",
       "      <td>11100.0</td>\n",
       "      <td>13169.0</td>\n",
       "      <td>12274.0</td>\n",
       "      <td>18951.0</td>\n",
       "      <td>0.937615</td>\n",
       "      <td>3061.0</td>\n",
       "      <td>19713.0</td>\n",
       "      <td>9</td>\n",
       "      <td>4</td>\n",
       "      <td>311.1</td>\n",
       "      <td>9662.5</td>\n",
       "      <td>0.0</td>\n",
       "      <td>9647.5</td>\n",
       "      <td>966.3</td>\n",
       "      <td>6624.4</td>\n",
       "    </tr>\n",
       "    <tr>\n",
       "      <th>1</th>\n",
       "      <td>0.21436</td>\n",
       "      <td>4743.0</td>\n",
       "      <td>0.0</td>\n",
       "      <td>111.0</td>\n",
       "      <td>2383.0</td>\n",
       "      <td>8931.0</td>\n",
       "      <td>11723.0</td>\n",
       "      <td>27194.0</td>\n",
       "      <td>11688.0</td>\n",
       "      <td>5483.0</td>\n",
       "      <td>6326.0</td>\n",
       "      <td>3338.0</td>\n",
       "      <td>2090.0</td>\n",
       "      <td>5013.0</td>\n",
       "      <td>3457.0</td>\n",
       "      <td>3701.0</td>\n",
       "      <td>11101.0</td>\n",
       "      <td>11165.0</td>\n",
       "      <td>8857.0</td>\n",
       "      <td>7052.0</td>\n",
       "      <td>1982.0</td>\n",
       "      <td>-0.152753</td>\n",
       "      <td>27194.0</td>\n",
       "      <td>11165.0</td>\n",
       "      <td>7</td>\n",
       "      <td>7</td>\n",
       "      <td>7858.2</td>\n",
       "      <td>5775.6</td>\n",
       "      <td>5904.5</td>\n",
       "      <td>4357.0</td>\n",
       "      <td>7986.6</td>\n",
       "      <td>3538.8</td>\n",
       "    </tr>\n",
       "  </tbody>\n",
       "</table>\n",
       "</div>"
      ],
      "text/plain": [
       "   mid_price   ask_1  ask_2  ask_3   ask_4   ask_5    ask_6    ask_7    ask_8  \\\n",
       "0    0.21362     0.0    0.0    0.0     0.0     0.0      0.0     26.0      0.0   \n",
       "1    0.21436  4743.0    0.0  111.0  2383.0  8931.0  11723.0  27194.0  11688.0   \n",
       "\n",
       "    ask_9  ask_10   bid_1   bid_2   bid_3    bid_4   bid_5    bid_6    bid_7  \\\n",
       "0  3061.0    24.0     0.0  5518.0  2082.0  19713.0  5623.0   8195.0  11100.0   \n",
       "1  5483.0  6326.0  3338.0  2090.0  5013.0   3457.0  3701.0  11101.0  11165.0   \n",
       "\n",
       "     bid_8    bid_9   bid_10  imbalance_vol  ask_max  bid_max  max_ask_level  \\\n",
       "0  13169.0  12274.0  18951.0       0.937615   3061.0  19713.0              9   \n",
       "1   8857.0   7052.0   1982.0      -0.152753  27194.0  11165.0              7   \n",
       "\n",
       "   max_bid_level  asks_mean  bids_mean  asks_median  bids_median  asks_std  \\\n",
       "0              4      311.1     9662.5          0.0       9647.5     966.3   \n",
       "1              7     7858.2     5775.6       5904.5       4357.0    7986.6   \n",
       "\n",
       "   bids_std  \n",
       "0    6624.4  \n",
       "1    3538.8  "
      ]
     },
     "execution_count": 27,
     "metadata": {},
     "output_type": "execute_result"
    }
   ],
   "source": [
    "df.head(2)"
   ]
  },
  {
   "cell_type": "markdown",
   "id": "51a278b4",
   "metadata": {},
   "source": [
    "### Целевой признак"
   ]
  },
  {
   "cell_type": "markdown",
   "id": "6faaa835",
   "metadata": {},
   "source": [
    "target создаем на основе признака mid_price, сдвигая его вверх на n кол-во шагов. Далее находим разницу между сдвинутым признаком и оригинальным."
   ]
  },
  {
   "cell_type": "code",
   "execution_count": 28,
   "id": "d6a6d0ea",
   "metadata": {},
   "outputs": [],
   "source": [
    "df['target'] = df['mid_price'].shift(-5) - df['mid_price']"
   ]
  },
  {
   "cell_type": "markdown",
   "id": "b545eadc",
   "metadata": {},
   "source": [
    "### Выгрузка датафрейма"
   ]
  },
  {
   "cell_type": "code",
   "execution_count": 30,
   "id": "e87c9440",
   "metadata": {},
   "outputs": [],
   "source": [
    "#df.to_csv('ds_tot_5_step.csv', index = False)"
   ]
  },
  {
   "cell_type": "code",
   "execution_count": null,
   "id": "90007b2b",
   "metadata": {},
   "outputs": [],
   "source": []
  }
 ],
 "metadata": {
  "kernelspec": {
   "display_name": "Python 3",
   "language": "python",
   "name": "python3"
  },
  "language_info": {
   "codemirror_mode": {
    "name": "ipython",
    "version": 3
   },
   "file_extension": ".py",
   "mimetype": "text/x-python",
   "name": "python",
   "nbconvert_exporter": "python",
   "pygments_lexer": "ipython3",
   "version": "3.10.10"
  }
 },
 "nbformat": 4,
 "nbformat_minor": 5
}
