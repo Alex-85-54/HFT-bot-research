{
 "cells": [
  {
   "cell_type": "markdown",
   "id": "587a31cb",
   "metadata": {},
   "source": [
    "# Bot для торговли на бирже Binance"
   ]
  },
  {
   "cell_type": "markdown",
   "id": "c4947f5e",
   "metadata": {},
   "source": [
    "https://github.com/binance/binance-futures-connector-python"
   ]
  },
  {
   "cell_type": "markdown",
   "id": "db5a4e5d",
   "metadata": {},
   "source": [
    "Стратегия торговли: вход в сделку на основе предсказаний модели обученной на данных стакана."
   ]
  },
  {
   "cell_type": "markdown",
   "id": "98bb80b7",
   "metadata": {},
   "source": [
    "## Импорт библиотек"
   ]
  },
  {
   "cell_type": "code",
   "execution_count": 94,
   "id": "85082e63",
   "metadata": {},
   "outputs": [],
   "source": [
    "from binance.client import Client\n",
    "from binance.um_futures import UMFutures\n",
    "from binance.websocket.um_futures.websocket_client import UMFuturesWebsocketClient\n",
    "from binance.lib.utils import config_logging\n",
    "import pandas as pd\n",
    "import numpy as np\n",
    "import talib\n",
    "import keys\n",
    "import time\n",
    "from datetime import datetime\n",
    "from pytz import timezone\n",
    "import logging\n",
    "import requests\n",
    "import json\n",
    "import re\n",
    "pd.options.mode.chained_assignment = None # отключение дебильного предупреждения\n",
    "pd.set_option('display.max_columns', None) # показывать максимальное количесвто столбцов"
   ]
  },
  {
   "cell_type": "markdown",
   "id": "cc17c133",
   "metadata": {},
   "source": [
    "## Подключение к бирже"
   ]
  },
  {
   "cell_type": "code",
   "execution_count": 95,
   "id": "141f11e0",
   "metadata": {},
   "outputs": [],
   "source": [
    "def connecting_to_market():\n",
    "    try:\n",
    "        client_alex = UMFutures(keys.api_key, keys.secret_key)\n",
    "        result_alex = f'Подключение client_alex к бирже выполено.'\n",
    "    except:\n",
    "        result_alex = f'client_alex: ошибка при подключении к бирже.' \n",
    "\n",
    "    try:\n",
    "        client_den = UMFutures(keys.api_key_den, keys.secret_key_den)\n",
    "        result_den = f'Подключение client_den к бирже выполено.'\n",
    "    except:\n",
    "        result_den = f'client_den: ошибка при подключении к бирже.'\n",
    "\n",
    "    return client_alex, result_alex, client_den, result_den\n",
    "        "
   ]
  },
  {
   "cell_type": "code",
   "execution_count": 96,
   "id": "52522daa",
   "metadata": {},
   "outputs": [],
   "source": [
    "clients = connecting_to_market()\n",
    "client, client_den = clients[0], clients[2]"
   ]
  },
  {
   "cell_type": "markdown",
   "id": "c000dde2",
   "metadata": {},
   "source": [
    "## Задать переменные"
   ]
  },
  {
   "cell_type": "code",
   "execution_count": 97,
   "id": "b014fcb9",
   "metadata": {},
   "outputs": [],
   "source": [
    "BOT_NAME = '📈'\n",
    "SYMBOL = 'MOODENGUSDT'\n",
    "WINDOW_MA = 50 # окно для рассчета MA\n",
    "TREND_THRESHOLD = 0.9994 # порог силы тренда\n",
    "PAUSE_BETWEEN_GET_DATA_IN_POSITION = 10 # период между обновлением данных в секундах\n",
    "TP_1_PROC = 0.5 #  это проценты\n",
    "TP_2_PROC = 1.5 \n",
    "TP_3_PROC = 2.0\n",
    "TP_4_PROC = 2.5\n",
    "STOP_LOSS_PROC = 1.0   #  это проценты\n",
    "POS_SIZE = 100.0 # размер позиции в менетах\n",
    "ZONE = timezone('Europe/Moscow') # часовой пояс"
   ]
  },
  {
   "cell_type": "markdown",
   "id": "558ac793",
   "metadata": {},
   "source": [
    "## Запуск логирования"
   ]
  },
  {
   "cell_type": "code",
   "execution_count": 98,
   "id": "61059be1",
   "metadata": {},
   "outputs": [],
   "source": [
    "def start_logging(Bot_name):\n",
    "    \"\"\"\n",
    "    Bot_name - имя бота - str\n",
    "    \"\"\"\n",
    "    logger = logging.getLogger(Bot_name)\n",
    "    logger.setLevel(logging.DEBUG)\n",
    "    fh = logging.FileHandler('bot.log')\n",
    "    fh.setFormatter(logging.Formatter('%(asctime)s - %(levelname)s - %(message)s'))\n",
    "    logger.addHandler(fh)\n",
    "    return logger"
   ]
  },
  {
   "cell_type": "code",
   "execution_count": 99,
   "id": "fc8ce974",
   "metadata": {},
   "outputs": [],
   "source": [
    "#logger = start_logging(BOT_NAME)"
   ]
  },
  {
   "cell_type": "code",
   "execution_count": 100,
   "id": "c20d0790",
   "metadata": {},
   "outputs": [],
   "source": [
    "#logger.warning('LLLLL')"
   ]
  },
  {
   "cell_type": "code",
   "execution_count": null,
   "id": "c0004448",
   "metadata": {},
   "outputs": [],
   "source": []
  },
  {
   "cell_type": "markdown",
   "id": "2edb964f",
   "metadata": {},
   "source": [
    "## Получение данных"
   ]
  },
  {
   "cell_type": "markdown",
   "id": "80c0657c",
   "metadata": {},
   "source": [
    "### REST_API"
   ]
  },
  {
   "cell_type": "markdown",
   "id": "4655fe04",
   "metadata": {},
   "source": [
    "#### Стакан"
   ]
  },
  {
   "cell_type": "code",
   "execution_count": 101,
   "id": "ae2beb3a",
   "metadata": {},
   "outputs": [],
   "source": [
    "# client.depth(SYMBOL, limit = 10)"
   ]
  },
  {
   "cell_type": "code",
   "execution_count": 102,
   "id": "9aaa1663",
   "metadata": {},
   "outputs": [],
   "source": [
    "df = pd.DataFrame(client.depth(SYMBOL, limit = 10))"
   ]
  },
  {
   "cell_type": "code",
   "execution_count": 103,
   "id": "1a64d296",
   "metadata": {},
   "outputs": [
    {
     "data": {
      "text/html": [
       "<div>\n",
       "<style scoped>\n",
       "    .dataframe tbody tr th:only-of-type {\n",
       "        vertical-align: middle;\n",
       "    }\n",
       "\n",
       "    .dataframe tbody tr th {\n",
       "        vertical-align: top;\n",
       "    }\n",
       "\n",
       "    .dataframe thead th {\n",
       "        text-align: right;\n",
       "    }\n",
       "</style>\n",
       "<table border=\"1\" class=\"dataframe\">\n",
       "  <thead>\n",
       "    <tr style=\"text-align: right;\">\n",
       "      <th></th>\n",
       "      <th>lastUpdateId</th>\n",
       "      <th>E</th>\n",
       "      <th>T</th>\n",
       "      <th>bids</th>\n",
       "      <th>asks</th>\n",
       "    </tr>\n",
       "  </thead>\n",
       "  <tbody>\n",
       "    <tr>\n",
       "      <th>0</th>\n",
       "      <td>7894393410702</td>\n",
       "      <td>1751010136153</td>\n",
       "      <td>1751010136138</td>\n",
       "      <td>[0.1355500, 3472]</td>\n",
       "      <td>[0.1355600, 3781]</td>\n",
       "    </tr>\n",
       "    <tr>\n",
       "      <th>1</th>\n",
       "      <td>7894393410702</td>\n",
       "      <td>1751010136153</td>\n",
       "      <td>1751010136138</td>\n",
       "      <td>[0.1355400, 7608]</td>\n",
       "      <td>[0.1355700, 3668]</td>\n",
       "    </tr>\n",
       "    <tr>\n",
       "      <th>2</th>\n",
       "      <td>7894393410702</td>\n",
       "      <td>1751010136153</td>\n",
       "      <td>1751010136138</td>\n",
       "      <td>[0.1355300, 13616]</td>\n",
       "      <td>[0.1355800, 9759]</td>\n",
       "    </tr>\n",
       "    <tr>\n",
       "      <th>3</th>\n",
       "      <td>7894393410702</td>\n",
       "      <td>1751010136153</td>\n",
       "      <td>1751010136138</td>\n",
       "      <td>[0.1355200, 26047]</td>\n",
       "      <td>[0.1355900, 18533]</td>\n",
       "    </tr>\n",
       "    <tr>\n",
       "      <th>4</th>\n",
       "      <td>7894393410702</td>\n",
       "      <td>1751010136153</td>\n",
       "      <td>1751010136138</td>\n",
       "      <td>[0.1355100, 46603]</td>\n",
       "      <td>[0.1356000, 35731]</td>\n",
       "    </tr>\n",
       "    <tr>\n",
       "      <th>5</th>\n",
       "      <td>7894393410702</td>\n",
       "      <td>1751010136153</td>\n",
       "      <td>1751010136138</td>\n",
       "      <td>[0.1355000, 57118]</td>\n",
       "      <td>[0.1356100, 26487]</td>\n",
       "    </tr>\n",
       "    <tr>\n",
       "      <th>6</th>\n",
       "      <td>7894393410702</td>\n",
       "      <td>1751010136153</td>\n",
       "      <td>1751010136138</td>\n",
       "      <td>[0.1354900, 23435]</td>\n",
       "      <td>[0.1356200, 30128]</td>\n",
       "    </tr>\n",
       "    <tr>\n",
       "      <th>7</th>\n",
       "      <td>7894393410702</td>\n",
       "      <td>1751010136153</td>\n",
       "      <td>1751010136138</td>\n",
       "      <td>[0.1354800, 48509]</td>\n",
       "      <td>[0.1356300, 38727]</td>\n",
       "    </tr>\n",
       "    <tr>\n",
       "      <th>8</th>\n",
       "      <td>7894393410702</td>\n",
       "      <td>1751010136153</td>\n",
       "      <td>1751010136138</td>\n",
       "      <td>[0.1354700, 31872]</td>\n",
       "      <td>[0.1356400, 32700]</td>\n",
       "    </tr>\n",
       "    <tr>\n",
       "      <th>9</th>\n",
       "      <td>7894393410702</td>\n",
       "      <td>1751010136153</td>\n",
       "      <td>1751010136138</td>\n",
       "      <td>[0.1354600, 34706]</td>\n",
       "      <td>[0.1356500, 36083]</td>\n",
       "    </tr>\n",
       "  </tbody>\n",
       "</table>\n",
       "</div>"
      ],
      "text/plain": [
       "    lastUpdateId              E              T                bids  \\\n",
       "0  7894393410702  1751010136153  1751010136138   [0.1355500, 3472]   \n",
       "1  7894393410702  1751010136153  1751010136138   [0.1355400, 7608]   \n",
       "2  7894393410702  1751010136153  1751010136138  [0.1355300, 13616]   \n",
       "3  7894393410702  1751010136153  1751010136138  [0.1355200, 26047]   \n",
       "4  7894393410702  1751010136153  1751010136138  [0.1355100, 46603]   \n",
       "5  7894393410702  1751010136153  1751010136138  [0.1355000, 57118]   \n",
       "6  7894393410702  1751010136153  1751010136138  [0.1354900, 23435]   \n",
       "7  7894393410702  1751010136153  1751010136138  [0.1354800, 48509]   \n",
       "8  7894393410702  1751010136153  1751010136138  [0.1354700, 31872]   \n",
       "9  7894393410702  1751010136153  1751010136138  [0.1354600, 34706]   \n",
       "\n",
       "                 asks  \n",
       "0   [0.1355600, 3781]  \n",
       "1   [0.1355700, 3668]  \n",
       "2   [0.1355800, 9759]  \n",
       "3  [0.1355900, 18533]  \n",
       "4  [0.1356000, 35731]  \n",
       "5  [0.1356100, 26487]  \n",
       "6  [0.1356200, 30128]  \n",
       "7  [0.1356300, 38727]  \n",
       "8  [0.1356400, 32700]  \n",
       "9  [0.1356500, 36083]  "
      ]
     },
     "execution_count": 103,
     "metadata": {},
     "output_type": "execute_result"
    }
   ],
   "source": [
    "df.head(10)"
   ]
  },
  {
   "cell_type": "markdown",
   "id": "669ec727",
   "metadata": {},
   "source": [
    "### WebSockets"
   ]
  },
  {
   "cell_type": "markdown",
   "id": "43a4113d",
   "metadata": {},
   "source": [
    "#### Функции для подключения"
   ]
  },
  {
   "cell_type": "code",
   "execution_count": 104,
   "id": "419445c3",
   "metadata": {},
   "outputs": [],
   "source": [
    "def start_Socket(handler):\n",
    "    '''\n",
    "    Запуск сокета\n",
    "    '''\n",
    "    my_client = UMFuturesWebsocketClient(on_message = handler)\n",
    "    try:\n",
    "        my_client.diff_book_depth(\n",
    "        symbol=\"moodengusdt\",\n",
    "        speed=500,\n",
    "        id=1)\n",
    "        time.sleep(43200)\n",
    "        logging.debug(\"closing ws connection\")\n",
    "        my_client.stop()\n",
    "        \n",
    "    except:\n",
    "        time.sleep(2)\n",
    "        logging.debug(\"connection restart\")\n",
    "        my_client.diff_book_depth(\n",
    "        symbol=\"moodengusdt\",\n",
    "        speed=500,\n",
    "        id=1)\n",
    "        time.sleep(15000)\n",
    "        logging.debug(\"closing ws connection\")\n",
    "        my_client.stop()\n"
   ]
  },
  {
   "cell_type": "code",
   "execution_count": 105,
   "id": "1875e598",
   "metadata": {},
   "outputs": [],
   "source": [
    "data = []"
   ]
  },
  {
   "cell_type": "code",
   "execution_count": 106,
   "id": "9dfc2388",
   "metadata": {},
   "outputs": [],
   "source": [
    "def handler_debug(_, message):\n",
    "    \"\"\"\n",
    "    Вывод всей инфы стакана\n",
    "    \"\"\"\n",
    "    if json.loads(message)['e'] == 'depthUpdate':\n",
    "        data.append(message)\n",
    "        print(message)"
   ]
  },
  {
   "cell_type": "code",
   "execution_count": 107,
   "id": "858fb632",
   "metadata": {},
   "outputs": [],
   "source": [
    "def handler_orderbook_update(_, message):\n",
    "    \"\"\"\n",
    "    Предобработка данных стакана\n",
    "    \"\"\"\n",
    "    if json.loads(message)['e'] == 'depthUpdate':\n",
    "        try:\n",
    "            bids = [float(b[1]) for b in json.loads(message)['b']][::-1][:10]\n",
    "            asks = [float(a[1]) for a in json.loads(message)['a']][:10]\n",
    "            mid_price = [(float(json.loads(message)['a'][-1][0]) + float(json.loads(message)['b'][::-1][0][0])) / 2] \n",
    "            total_feat = mid_price + asks + bids \n",
    "            df_row = pd.DataFrame(total_feat).T\n",
    "            df_row.columns = ['mid_price', 'ask_1', 'ask_2', 'ask_3', 'ask_4', 'ask_5', 'ask_6', 'ask_7', 'ask_8', 'ask_9', 'ask_10', \n",
    "                        'bid_1', 'bid_2', 'bid_3', 'bid_4', 'bid_5', 'bid_6', 'bid_7', 'bid_8', 'bid_9', 'bid_10']\n",
    "            data.append(df_row)\n",
    "            #print(message)\n",
    "        except:\n",
    "            df_row = pd.DataFrame()  \n",
    "            data.append(df_row)\n",
    "            print(message)  "
   ]
  },
  {
   "cell_type": "markdown",
   "id": "244f42f8",
   "metadata": {},
   "source": [
    "#### Запуск сбора данных"
   ]
  },
  {
   "cell_type": "code",
   "execution_count": 108,
   "id": "7265fa60",
   "metadata": {},
   "outputs": [],
   "source": [
    "#start_Socket(handler_orderbook_update)"
   ]
  },
  {
   "cell_type": "markdown",
   "id": "0d0c7bba",
   "metadata": {},
   "source": [
    "#### Получение датафрейма"
   ]
  },
  {
   "cell_type": "code",
   "execution_count": 109,
   "id": "476e94dd",
   "metadata": {},
   "outputs": [],
   "source": [
    "#ds_ws = pd.concat(data).reset_index(drop=True)"
   ]
  },
  {
   "cell_type": "code",
   "execution_count": 110,
   "id": "475b9399",
   "metadata": {},
   "outputs": [],
   "source": [
    "#ds_ws.shape"
   ]
  },
  {
   "cell_type": "code",
   "execution_count": 111,
   "id": "bda539f6",
   "metadata": {},
   "outputs": [],
   "source": [
    "#ds_ws"
   ]
  },
  {
   "cell_type": "markdown",
   "id": "9d22e00b",
   "metadata": {},
   "source": [
    "#### Выгрузка датафрейма"
   ]
  },
  {
   "cell_type": "code",
   "execution_count": 112,
   "id": "1fa74311",
   "metadata": {},
   "outputs": [],
   "source": [
    "#ds_ws.to_csv('ds_moodeng_13_06.csv', index = False)"
   ]
  },
  {
   "cell_type": "code",
   "execution_count": null,
   "id": "6ed8931f",
   "metadata": {},
   "outputs": [],
   "source": []
  }
 ],
 "metadata": {
  "kernelspec": {
   "display_name": "Python 3",
   "language": "python",
   "name": "python3"
  },
  "language_info": {
   "codemirror_mode": {
    "name": "ipython",
    "version": 3
   },
   "file_extension": ".py",
   "mimetype": "text/x-python",
   "name": "python",
   "nbconvert_exporter": "python",
   "pygments_lexer": "ipython3",
   "version": "3.10.10"
  }
 },
 "nbformat": 4,
 "nbformat_minor": 5
}
