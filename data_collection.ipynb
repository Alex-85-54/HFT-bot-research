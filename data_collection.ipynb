{
 "cells": [
  {
   "cell_type": "markdown",
   "id": "587a31cb",
   "metadata": {},
   "source": [
    "# Bot для торговли на бирже Binance"
   ]
  },
  {
   "cell_type": "markdown",
   "id": "c4947f5e",
   "metadata": {},
   "source": [
    "https://github.com/binance/binance-futures-connector-python"
   ]
  },
  {
   "cell_type": "markdown",
   "id": "db5a4e5d",
   "metadata": {},
   "source": [
    "Стратегия торговли: вход в сделку на основе предсказаний модели обученной на данных стакана."
   ]
  },
  {
   "cell_type": "markdown",
   "id": "98bb80b7",
   "metadata": {},
   "source": [
    "## Импорт библиотек"
   ]
  },
  {
   "cell_type": "code",
   "execution_count": 32,
   "id": "85082e63",
   "metadata": {},
   "outputs": [],
   "source": [
    "from binance.client import Client\n",
    "from binance.um_futures import UMFutures\n",
    "from binance.websocket.um_futures.websocket_client import UMFuturesWebsocketClient\n",
    "from binance.lib.utils import config_logging\n",
    "import pandas as pd\n",
    "import numpy as np\n",
    "import talib\n",
    "import keys\n",
    "import time\n",
    "from datetime import datetime\n",
    "from pytz import timezone\n",
    "import logging\n",
    "import requests\n",
    "import json\n",
    "import re\n",
    "pd.options.mode.chained_assignment = None # отключение предупреждения\n",
    "pd.set_option('display.max_columns', None) # показывать максимальное количесвто столбцов"
   ]
  },
  {
   "cell_type": "markdown",
   "id": "cc17c133",
   "metadata": {},
   "source": [
    "## Подключение к бирже"
   ]
  },
  {
   "cell_type": "code",
   "execution_count": 93,
   "id": "52522daa",
   "metadata": {},
   "outputs": [],
   "source": [
    "client = UMFutures(keys.api_key, keys.secret_key)"
   ]
  },
  {
   "cell_type": "markdown",
   "id": "c000dde2",
   "metadata": {},
   "source": [
    "## Задать переменные"
   ]
  },
  {
   "cell_type": "code",
   "execution_count": 94,
   "id": "b014fcb9",
   "metadata": {},
   "outputs": [],
   "source": [
    "SYMBOL = 'MOODENGUSDT'"
   ]
  },
  {
   "cell_type": "markdown",
   "id": "558ac793",
   "metadata": {},
   "source": [
    "## Запуск логирования"
   ]
  },
  {
   "cell_type": "code",
   "execution_count": 95,
   "id": "61059be1",
   "metadata": {},
   "outputs": [],
   "source": [
    "def start_logging(Bot_name):\n",
    "    \"\"\"\n",
    "    Bot_name - имя бота - str\n",
    "    \"\"\"\n",
    "    logger = logging.getLogger(Bot_name)\n",
    "    logger.setLevel(logging.DEBUG)\n",
    "    fh = logging.FileHandler('bot.log')\n",
    "    fh.setFormatter(logging.Formatter('%(asctime)s - %(levelname)s - %(message)s'))\n",
    "    logger.addHandler(fh)\n",
    "    return logger"
   ]
  },
  {
   "cell_type": "markdown",
   "id": "2edb964f",
   "metadata": {},
   "source": [
    "## Получение данных"
   ]
  },
  {
   "cell_type": "markdown",
   "id": "80c0657c",
   "metadata": {},
   "source": [
    "### REST_API"
   ]
  },
  {
   "cell_type": "markdown",
   "id": "4655fe04",
   "metadata": {},
   "source": [
    "#### Стакан"
   ]
  },
  {
   "cell_type": "code",
   "execution_count": 96,
   "id": "ae2beb3a",
   "metadata": {},
   "outputs": [
    {
     "data": {
      "text/plain": [
       "{'lastUpdateId': 7920350983101,\n",
       " 'E': 1751359799694,\n",
       " 'T': 1751359799684,\n",
       " 'bids': [['0.1403700', '8415'],\n",
       "  ['0.1403600', '10481'],\n",
       "  ['0.1403500', '15864'],\n",
       "  ['0.1403400', '31850'],\n",
       "  ['0.1403300', '23027'],\n",
       "  ['0.1403200', '31258'],\n",
       "  ['0.1403100', '52285'],\n",
       "  ['0.1403000', '27753'],\n",
       "  ['0.1402900', '27419'],\n",
       "  ['0.1402800', '43518']],\n",
       " 'asks': [['0.1403800', '1957'],\n",
       "  ['0.1403900', '1507'],\n",
       "  ['0.1404000', '4727'],\n",
       "  ['0.1404100', '2091'],\n",
       "  ['0.1404200', '4153'],\n",
       "  ['0.1404300', '9567'],\n",
       "  ['0.1404400', '23883'],\n",
       "  ['0.1404500', '19609'],\n",
       "  ['0.1404600', '35198'],\n",
       "  ['0.1404700', '13163']]}"
      ]
     },
     "execution_count": 96,
     "metadata": {},
     "output_type": "execute_result"
    }
   ],
   "source": [
    "client.depth(SYMBOL, limit = 10)"
   ]
  },
  {
   "cell_type": "code",
   "execution_count": 97,
   "id": "9aaa1663",
   "metadata": {},
   "outputs": [],
   "source": [
    "df = pd.DataFrame(client.depth(SYMBOL, limit = 10))"
   ]
  },
  {
   "cell_type": "code",
   "execution_count": 98,
   "id": "1a64d296",
   "metadata": {},
   "outputs": [
    {
     "data": {
      "text/html": [
       "<div>\n",
       "<style scoped>\n",
       "    .dataframe tbody tr th:only-of-type {\n",
       "        vertical-align: middle;\n",
       "    }\n",
       "\n",
       "    .dataframe tbody tr th {\n",
       "        vertical-align: top;\n",
       "    }\n",
       "\n",
       "    .dataframe thead th {\n",
       "        text-align: right;\n",
       "    }\n",
       "</style>\n",
       "<table border=\"1\" class=\"dataframe\">\n",
       "  <thead>\n",
       "    <tr style=\"text-align: right;\">\n",
       "      <th></th>\n",
       "      <th>lastUpdateId</th>\n",
       "      <th>E</th>\n",
       "      <th>T</th>\n",
       "      <th>bids</th>\n",
       "      <th>asks</th>\n",
       "    </tr>\n",
       "  </thead>\n",
       "  <tbody>\n",
       "    <tr>\n",
       "      <th>0</th>\n",
       "      <td>7920351360800</td>\n",
       "      <td>1751359802012</td>\n",
       "      <td>1751359802001</td>\n",
       "      <td>[0.1404500, 8499]</td>\n",
       "      <td>[0.1404600, 76]</td>\n",
       "    </tr>\n",
       "    <tr>\n",
       "      <th>1</th>\n",
       "      <td>7920351360800</td>\n",
       "      <td>1751359802012</td>\n",
       "      <td>1751359802001</td>\n",
       "      <td>[0.1404400, 15859]</td>\n",
       "      <td>[0.1404700, 194]</td>\n",
       "    </tr>\n",
       "    <tr>\n",
       "      <th>2</th>\n",
       "      <td>7920351360800</td>\n",
       "      <td>1751359802012</td>\n",
       "      <td>1751359802001</td>\n",
       "      <td>[0.1404300, 14872]</td>\n",
       "      <td>[0.1404800, 2715]</td>\n",
       "    </tr>\n",
       "    <tr>\n",
       "      <th>3</th>\n",
       "      <td>7920351360800</td>\n",
       "      <td>1751359802012</td>\n",
       "      <td>1751359802001</td>\n",
       "      <td>[0.1404200, 21184]</td>\n",
       "      <td>[0.1404900, 5175]</td>\n",
       "    </tr>\n",
       "    <tr>\n",
       "      <th>4</th>\n",
       "      <td>7920351360800</td>\n",
       "      <td>1751359802012</td>\n",
       "      <td>1751359802001</td>\n",
       "      <td>[0.1404100, 24514]</td>\n",
       "      <td>[0.1405000, 6850]</td>\n",
       "    </tr>\n",
       "    <tr>\n",
       "      <th>5</th>\n",
       "      <td>7920351360800</td>\n",
       "      <td>1751359802012</td>\n",
       "      <td>1751359802001</td>\n",
       "      <td>[0.1404000, 39574]</td>\n",
       "      <td>[0.1405100, 37131]</td>\n",
       "    </tr>\n",
       "    <tr>\n",
       "      <th>6</th>\n",
       "      <td>7920351360800</td>\n",
       "      <td>1751359802012</td>\n",
       "      <td>1751359802001</td>\n",
       "      <td>[0.1403900, 23587]</td>\n",
       "      <td>[0.1405200, 33304]</td>\n",
       "    </tr>\n",
       "    <tr>\n",
       "      <th>7</th>\n",
       "      <td>7920351360800</td>\n",
       "      <td>1751359802012</td>\n",
       "      <td>1751359802001</td>\n",
       "      <td>[0.1403800, 44468]</td>\n",
       "      <td>[0.1405300, 19134]</td>\n",
       "    </tr>\n",
       "    <tr>\n",
       "      <th>8</th>\n",
       "      <td>7920351360800</td>\n",
       "      <td>1751359802012</td>\n",
       "      <td>1751359802001</td>\n",
       "      <td>[0.1403700, 46930]</td>\n",
       "      <td>[0.1405400, 14299]</td>\n",
       "    </tr>\n",
       "    <tr>\n",
       "      <th>9</th>\n",
       "      <td>7920351360800</td>\n",
       "      <td>1751359802012</td>\n",
       "      <td>1751359802001</td>\n",
       "      <td>[0.1403600, 40544]</td>\n",
       "      <td>[0.1405500, 41617]</td>\n",
       "    </tr>\n",
       "  </tbody>\n",
       "</table>\n",
       "</div>"
      ],
      "text/plain": [
       "    lastUpdateId              E              T                bids  \\\n",
       "0  7920351360800  1751359802012  1751359802001   [0.1404500, 8499]   \n",
       "1  7920351360800  1751359802012  1751359802001  [0.1404400, 15859]   \n",
       "2  7920351360800  1751359802012  1751359802001  [0.1404300, 14872]   \n",
       "3  7920351360800  1751359802012  1751359802001  [0.1404200, 21184]   \n",
       "4  7920351360800  1751359802012  1751359802001  [0.1404100, 24514]   \n",
       "5  7920351360800  1751359802012  1751359802001  [0.1404000, 39574]   \n",
       "6  7920351360800  1751359802012  1751359802001  [0.1403900, 23587]   \n",
       "7  7920351360800  1751359802012  1751359802001  [0.1403800, 44468]   \n",
       "8  7920351360800  1751359802012  1751359802001  [0.1403700, 46930]   \n",
       "9  7920351360800  1751359802012  1751359802001  [0.1403600, 40544]   \n",
       "\n",
       "                 asks  \n",
       "0     [0.1404600, 76]  \n",
       "1    [0.1404700, 194]  \n",
       "2   [0.1404800, 2715]  \n",
       "3   [0.1404900, 5175]  \n",
       "4   [0.1405000, 6850]  \n",
       "5  [0.1405100, 37131]  \n",
       "6  [0.1405200, 33304]  \n",
       "7  [0.1405300, 19134]  \n",
       "8  [0.1405400, 14299]  \n",
       "9  [0.1405500, 41617]  "
      ]
     },
     "execution_count": 98,
     "metadata": {},
     "output_type": "execute_result"
    }
   ],
   "source": [
    "df.head(10)"
   ]
  },
  {
   "cell_type": "markdown",
   "id": "669ec727",
   "metadata": {},
   "source": [
    "### WebSockets"
   ]
  },
  {
   "cell_type": "markdown",
   "id": "43a4113d",
   "metadata": {},
   "source": [
    "#### Функции для подключения"
   ]
  },
  {
   "cell_type": "code",
   "execution_count": 86,
   "id": "419445c3",
   "metadata": {},
   "outputs": [],
   "source": [
    "def start_Socket(handler):\n",
    "    '''\n",
    "    Запуск сокета\n",
    "    '''\n",
    "    my_client = UMFuturesWebsocketClient(on_message = handler)\n",
    "    try:\n",
    "        my_client.diff_book_depth(\n",
    "        symbol=\"moodengusdt\",\n",
    "        speed=500,\n",
    "        id=1)\n",
    "        time.sleep(10)\n",
    "        logging.debug(\"closing ws connection\")\n",
    "        my_client.stop()\n",
    "        \n",
    "    except:\n",
    "        time.sleep(2)\n",
    "        logging.debug(\"connection restart\")\n",
    "        my_client.diff_book_depth(\n",
    "        symbol=\"moodengusdt\",\n",
    "        speed=150,\n",
    "        id=1)\n",
    "        time.sleep(15000)\n",
    "        logging.debug(\"closing ws connection\")\n",
    "        my_client.stop()\n"
   ]
  },
  {
   "cell_type": "code",
   "execution_count": 79,
   "id": "1875e598",
   "metadata": {},
   "outputs": [],
   "source": [
    "data = []"
   ]
  },
  {
   "cell_type": "code",
   "execution_count": 80,
   "id": "9dfc2388",
   "metadata": {},
   "outputs": [],
   "source": [
    "def handler_debug(_, message):\n",
    "    \"\"\"\n",
    "    Вывод всей инф стакана\n",
    "    \"\"\"\n",
    "    if json.loads(message)['e'] == 'depthUpdate':\n",
    "        data.append(message)\n",
    "        print(message)"
   ]
  },
  {
   "cell_type": "code",
   "execution_count": 81,
   "id": "858fb632",
   "metadata": {},
   "outputs": [],
   "source": [
    "def handler_orderbook_update(_, message):\n",
    "    \"\"\"\n",
    "    Предобработка данных стакана\n",
    "    \"\"\"\n",
    "    if json.loads(message)['e'] == 'depthUpdate':\n",
    "        try:\n",
    "            bids = [float(b[1]) for b in json.loads(message)['b']][::-1][:10]\n",
    "            asks = [float(a[1]) for a in json.loads(message)['a']][:10]\n",
    "            mid_price = [(float(json.loads(message)['a'][-1][0]) + float(json.loads(message)['b'][::-1][0][0])) / 2] \n",
    "            total_feat = mid_price + asks + bids \n",
    "            df_row = pd.DataFrame(total_feat).T\n",
    "            df_row.columns = ['mid_price', 'ask_1', 'ask_2', 'ask_3', 'ask_4', 'ask_5', 'ask_6', 'ask_7', 'ask_8', 'ask_9', 'ask_10', \n",
    "                        'bid_1', 'bid_2', 'bid_3', 'bid_4', 'bid_5', 'bid_6', 'bid_7', 'bid_8', 'bid_9', 'bid_10']\n",
    "            data.append(df_row)\n",
    "            #print(message)\n",
    "        except:\n",
    "            df_row = pd.DataFrame()  \n",
    "            data.append(df_row) "
   ]
  },
  {
   "cell_type": "markdown",
   "id": "244f42f8",
   "metadata": {},
   "source": [
    "#### Запуск сбора данных"
   ]
  },
  {
   "cell_type": "code",
   "execution_count": 87,
   "id": "7265fa60",
   "metadata": {},
   "outputs": [
    {
     "name": "stderr",
     "output_type": "stream",
     "text": [
      "ERROR:binance.websocket.websocket_client:Error from callback <function handler_orderbook_update at 0x000002348B9C3010>: 'e'\n",
      "WARNING:binance.websocket.websocket_client:CLOSE frame received, closing websocket connection\n"
     ]
    }
   ],
   "source": [
    "start_Socket(handler_orderbook_update)"
   ]
  },
  {
   "cell_type": "markdown",
   "id": "0d0c7bba",
   "metadata": {},
   "source": [
    "#### Получение датафрейма"
   ]
  },
  {
   "cell_type": "code",
   "execution_count": 88,
   "id": "476e94dd",
   "metadata": {},
   "outputs": [],
   "source": [
    "ds_ws = pd.concat(data).reset_index(drop=True)"
   ]
  },
  {
   "cell_type": "code",
   "execution_count": 89,
   "id": "475b9399",
   "metadata": {},
   "outputs": [
    {
     "data": {
      "text/plain": [
       "(14, 21)"
      ]
     },
     "execution_count": 89,
     "metadata": {},
     "output_type": "execute_result"
    }
   ],
   "source": [
    "ds_ws.shape"
   ]
  },
  {
   "cell_type": "code",
   "execution_count": 90,
   "id": "bda539f6",
   "metadata": {},
   "outputs": [
    {
     "data": {
      "text/html": [
       "<div>\n",
       "<style scoped>\n",
       "    .dataframe tbody tr th:only-of-type {\n",
       "        vertical-align: middle;\n",
       "    }\n",
       "\n",
       "    .dataframe tbody tr th {\n",
       "        vertical-align: top;\n",
       "    }\n",
       "\n",
       "    .dataframe thead th {\n",
       "        text-align: right;\n",
       "    }\n",
       "</style>\n",
       "<table border=\"1\" class=\"dataframe\">\n",
       "  <thead>\n",
       "    <tr style=\"text-align: right;\">\n",
       "      <th></th>\n",
       "      <th>mid_price</th>\n",
       "      <th>ask_1</th>\n",
       "      <th>ask_2</th>\n",
       "      <th>ask_3</th>\n",
       "      <th>ask_4</th>\n",
       "      <th>ask_5</th>\n",
       "      <th>ask_6</th>\n",
       "      <th>ask_7</th>\n",
       "      <th>ask_8</th>\n",
       "      <th>ask_9</th>\n",
       "      <th>ask_10</th>\n",
       "      <th>bid_1</th>\n",
       "      <th>bid_2</th>\n",
       "      <th>bid_3</th>\n",
       "      <th>bid_4</th>\n",
       "      <th>bid_5</th>\n",
       "      <th>bid_6</th>\n",
       "      <th>bid_7</th>\n",
       "      <th>bid_8</th>\n",
       "      <th>bid_9</th>\n",
       "      <th>bid_10</th>\n",
       "    </tr>\n",
       "  </thead>\n",
       "  <tbody>\n",
       "    <tr>\n",
       "      <th>0</th>\n",
       "      <td>0.14496</td>\n",
       "      <td>7802.0</td>\n",
       "      <td>7136.0</td>\n",
       "      <td>3991.0</td>\n",
       "      <td>11035.0</td>\n",
       "      <td>12301.0</td>\n",
       "      <td>13767.0</td>\n",
       "      <td>10815.0</td>\n",
       "      <td>18280.0</td>\n",
       "      <td>13433.0</td>\n",
       "      <td>12602.0</td>\n",
       "      <td>0.0</td>\n",
       "      <td>317.0</td>\n",
       "      <td>5354.0</td>\n",
       "      <td>16992.0</td>\n",
       "      <td>19571.0</td>\n",
       "      <td>29983.0</td>\n",
       "      <td>29873.0</td>\n",
       "      <td>40955.0</td>\n",
       "      <td>12106.0</td>\n",
       "      <td>29851.0</td>\n",
       "    </tr>\n",
       "    <tr>\n",
       "      <th>1</th>\n",
       "      <td>0.14065</td>\n",
       "      <td>0.0</td>\n",
       "      <td>0.0</td>\n",
       "      <td>118.0</td>\n",
       "      <td>999.0</td>\n",
       "      <td>7142.0</td>\n",
       "      <td>6867.0</td>\n",
       "      <td>11901.0</td>\n",
       "      <td>10979.0</td>\n",
       "      <td>13071.0</td>\n",
       "      <td>8835.0</td>\n",
       "      <td>4405.0</td>\n",
       "      <td>11702.0</td>\n",
       "      <td>10563.0</td>\n",
       "      <td>16798.0</td>\n",
       "      <td>20541.0</td>\n",
       "      <td>23456.0</td>\n",
       "      <td>29225.0</td>\n",
       "      <td>34678.0</td>\n",
       "      <td>33748.0</td>\n",
       "      <td>15981.0</td>\n",
       "    </tr>\n",
       "  </tbody>\n",
       "</table>\n",
       "</div>"
      ],
      "text/plain": [
       "   mid_price   ask_1   ask_2   ask_3    ask_4    ask_5    ask_6    ask_7  \\\n",
       "0    0.14496  7802.0  7136.0  3991.0  11035.0  12301.0  13767.0  10815.0   \n",
       "1    0.14065     0.0     0.0   118.0    999.0   7142.0   6867.0  11901.0   \n",
       "\n",
       "     ask_8    ask_9   ask_10   bid_1    bid_2    bid_3    bid_4    bid_5  \\\n",
       "0  18280.0  13433.0  12602.0     0.0    317.0   5354.0  16992.0  19571.0   \n",
       "1  10979.0  13071.0   8835.0  4405.0  11702.0  10563.0  16798.0  20541.0   \n",
       "\n",
       "     bid_6    bid_7    bid_8    bid_9   bid_10  \n",
       "0  29983.0  29873.0  40955.0  12106.0  29851.0  \n",
       "1  23456.0  29225.0  34678.0  33748.0  15981.0  "
      ]
     },
     "execution_count": 90,
     "metadata": {},
     "output_type": "execute_result"
    }
   ],
   "source": [
    "ds_ws.head(2)"
   ]
  },
  {
   "cell_type": "markdown",
   "id": "9d22e00b",
   "metadata": {},
   "source": [
    "#### Выгрузка датафрейма"
   ]
  },
  {
   "cell_type": "code",
   "execution_count": 91,
   "id": "1fa74311",
   "metadata": {},
   "outputs": [],
   "source": [
    "ds_ws.to_csv('ds_moodeng_13.csv', index = False)"
   ]
  },
  {
   "cell_type": "code",
   "execution_count": null,
   "id": "6ed8931f",
   "metadata": {},
   "outputs": [],
   "source": []
  }
 ],
 "metadata": {
  "kernelspec": {
   "display_name": "Python 3",
   "language": "python",
   "name": "python3"
  },
  "language_info": {
   "codemirror_mode": {
    "name": "ipython",
    "version": 3
   },
   "file_extension": ".py",
   "mimetype": "text/x-python",
   "name": "python",
   "nbconvert_exporter": "python",
   "pygments_lexer": "ipython3",
   "version": "3.10.10"
  }
 },
 "nbformat": 4,
 "nbformat_minor": 5
}
