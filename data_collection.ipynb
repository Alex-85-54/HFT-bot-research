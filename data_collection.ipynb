{
 "cells": [
  {
   "cell_type": "markdown",
   "id": "587a31cb",
   "metadata": {},
   "source": [
    "# Bot для торговли на бирже Binance"
   ]
  },
  {
   "cell_type": "markdown",
   "id": "c4947f5e",
   "metadata": {},
   "source": [
    "https://github.com/binance/binance-futures-connector-python"
   ]
  },
  {
   "cell_type": "markdown",
   "id": "db5a4e5d",
   "metadata": {},
   "source": [
    "Стратегия торговли: вход в сделку на основе предсказаний модели обученной на данных стакана."
   ]
  },
  {
   "cell_type": "markdown",
   "id": "98bb80b7",
   "metadata": {},
   "source": [
    "## Импорт библиотек"
   ]
  },
  {
   "cell_type": "code",
   "execution_count": 3,
   "id": "85082e63",
   "metadata": {},
   "outputs": [],
   "source": [
    "from binance.client import Client\n",
    "from binance.um_futures import UMFutures\n",
    "from binance.websocket.um_futures.websocket_client import UMFuturesWebsocketClient\n",
    "from binance.lib.utils import config_logging\n",
    "import pandas as pd\n",
    "import numpy as np\n",
    "import talib\n",
    "import keys\n",
    "import time\n",
    "from datetime import datetime\n",
    "from pytz import timezone\n",
    "import logging\n",
    "import requests\n",
    "import json\n",
    "import re\n",
    "pd.options.mode.chained_assignment = None # отключение дебильного предупреждения\n",
    "pd.set_option('display.max_columns', None) # показывать максимальное количесвто столбцов"
   ]
  },
  {
   "cell_type": "markdown",
   "id": "cc17c133",
   "metadata": {},
   "source": [
    "## Подключение к бирже"
   ]
  },
  {
   "cell_type": "code",
   "execution_count": 4,
   "id": "141f11e0",
   "metadata": {},
   "outputs": [],
   "source": [
    "def connecting_to_market():\n",
    "    try:\n",
    "        client_alex = UMFutures(keys.api_key, keys.secret_key)\n",
    "        result_alex = f'Подключение client_alex к бирже выполено.'\n",
    "    except:\n",
    "        result_alex = f'client_alex: ошибка при подключении к бирже.' \n",
    "\n",
    "    try:\n",
    "        client_den = UMFutures(keys.api_key_den, keys.secret_key_den)\n",
    "        result_den = f'Подключение client_den к бирже выполено.'\n",
    "    except:\n",
    "        result_den = f'client_den: ошибка при подключении к бирже.'\n",
    "\n",
    "    return client_alex, result_alex, client_den, result_den\n",
    "        "
   ]
  },
  {
   "cell_type": "code",
   "execution_count": 5,
   "id": "52522daa",
   "metadata": {},
   "outputs": [],
   "source": [
    "clients = connecting_to_market()\n",
    "client, client_den = clients[0], clients[2]"
   ]
  },
  {
   "cell_type": "markdown",
   "id": "c000dde2",
   "metadata": {},
   "source": [
    "## Задать переменные"
   ]
  },
  {
   "cell_type": "code",
   "execution_count": 6,
   "id": "b014fcb9",
   "metadata": {},
   "outputs": [],
   "source": [
    "SYMBOL = 'MOODENGUSDT'"
   ]
  },
  {
   "cell_type": "markdown",
   "id": "558ac793",
   "metadata": {},
   "source": [
    "## Запуск логирования"
   ]
  },
  {
   "cell_type": "code",
   "execution_count": 7,
   "id": "61059be1",
   "metadata": {},
   "outputs": [],
   "source": [
    "def start_logging(Bot_name):\n",
    "    \"\"\"\n",
    "    Bot_name - имя бота - str\n",
    "    \"\"\"\n",
    "    logger = logging.getLogger(Bot_name)\n",
    "    logger.setLevel(logging.DEBUG)\n",
    "    fh = logging.FileHandler('bot.log')\n",
    "    fh.setFormatter(logging.Formatter('%(asctime)s - %(levelname)s - %(message)s'))\n",
    "    logger.addHandler(fh)\n",
    "    return logger"
   ]
  },
  {
   "cell_type": "markdown",
   "id": "2edb964f",
   "metadata": {},
   "source": [
    "## Получение данных"
   ]
  },
  {
   "cell_type": "markdown",
   "id": "80c0657c",
   "metadata": {},
   "source": [
    "### REST_API"
   ]
  },
  {
   "cell_type": "markdown",
   "id": "4655fe04",
   "metadata": {},
   "source": [
    "#### Стакан"
   ]
  },
  {
   "cell_type": "code",
   "execution_count": 8,
   "id": "ae2beb3a",
   "metadata": {},
   "outputs": [
    {
     "data": {
      "text/plain": [
       "{'lastUpdateId': 7914725010480,\n",
       " 'E': 1751294280447,\n",
       " 'T': 1751294280427,\n",
       " 'bids': [['0.1491800', '4065'],\n",
       "  ['0.1491700', '4459'],\n",
       "  ['0.1491600', '9683'],\n",
       "  ['0.1491500', '12977'],\n",
       "  ['0.1491400', '18774'],\n",
       "  ['0.1491300', '10328'],\n",
       "  ['0.1491200', '29304'],\n",
       "  ['0.1491100', '30522'],\n",
       "  ['0.1491000', '24344'],\n",
       "  ['0.1490900', '15580']],\n",
       " 'asks': [['0.1491900', '2798'],\n",
       "  ['0.1492000', '111'],\n",
       "  ['0.1492100', '9095'],\n",
       "  ['0.1492200', '7226'],\n",
       "  ['0.1492300', '5546'],\n",
       "  ['0.1492400', '7841'],\n",
       "  ['0.1492500', '18044'],\n",
       "  ['0.1492600', '23225'],\n",
       "  ['0.1492700', '27002'],\n",
       "  ['0.1492800', '9725']]}"
      ]
     },
     "execution_count": 8,
     "metadata": {},
     "output_type": "execute_result"
    }
   ],
   "source": [
    "client.depth(SYMBOL, limit = 10)"
   ]
  },
  {
   "cell_type": "code",
   "execution_count": 9,
   "id": "9aaa1663",
   "metadata": {},
   "outputs": [],
   "source": [
    "df = pd.DataFrame(client.depth(SYMBOL, limit = 10))"
   ]
  },
  {
   "cell_type": "code",
   "execution_count": 10,
   "id": "1a64d296",
   "metadata": {},
   "outputs": [
    {
     "data": {
      "text/html": [
       "<div>\n",
       "<style scoped>\n",
       "    .dataframe tbody tr th:only-of-type {\n",
       "        vertical-align: middle;\n",
       "    }\n",
       "\n",
       "    .dataframe tbody tr th {\n",
       "        vertical-align: top;\n",
       "    }\n",
       "\n",
       "    .dataframe thead th {\n",
       "        text-align: right;\n",
       "    }\n",
       "</style>\n",
       "<table border=\"1\" class=\"dataframe\">\n",
       "  <thead>\n",
       "    <tr style=\"text-align: right;\">\n",
       "      <th></th>\n",
       "      <th>lastUpdateId</th>\n",
       "      <th>E</th>\n",
       "      <th>T</th>\n",
       "      <th>bids</th>\n",
       "      <th>asks</th>\n",
       "    </tr>\n",
       "  </thead>\n",
       "  <tbody>\n",
       "    <tr>\n",
       "      <th>0</th>\n",
       "      <td>7914725068567</td>\n",
       "      <td>1751294280968</td>\n",
       "      <td>1751294280960</td>\n",
       "      <td>[0.1492300, 2314]</td>\n",
       "      <td>[0.1492400, 1686]</td>\n",
       "    </tr>\n",
       "    <tr>\n",
       "      <th>1</th>\n",
       "      <td>7914725068567</td>\n",
       "      <td>1751294280968</td>\n",
       "      <td>1751294280960</td>\n",
       "      <td>[0.1492200, 2052]</td>\n",
       "      <td>[0.1492500, 1815]</td>\n",
       "    </tr>\n",
       "    <tr>\n",
       "      <th>2</th>\n",
       "      <td>7914725068567</td>\n",
       "      <td>1751294280968</td>\n",
       "      <td>1751294280960</td>\n",
       "      <td>[0.1492100, 7906]</td>\n",
       "      <td>[0.1492600, 3086]</td>\n",
       "    </tr>\n",
       "    <tr>\n",
       "      <th>3</th>\n",
       "      <td>7914725068567</td>\n",
       "      <td>1751294280968</td>\n",
       "      <td>1751294280960</td>\n",
       "      <td>[0.1492000, 13918]</td>\n",
       "      <td>[0.1492700, 3499]</td>\n",
       "    </tr>\n",
       "    <tr>\n",
       "      <th>4</th>\n",
       "      <td>7914725068567</td>\n",
       "      <td>1751294280968</td>\n",
       "      <td>1751294280960</td>\n",
       "      <td>[0.1491900, 9315]</td>\n",
       "      <td>[0.1492800, 7455]</td>\n",
       "    </tr>\n",
       "    <tr>\n",
       "      <th>5</th>\n",
       "      <td>7914725068567</td>\n",
       "      <td>1751294280968</td>\n",
       "      <td>1751294280960</td>\n",
       "      <td>[0.1491800, 25786]</td>\n",
       "      <td>[0.1492900, 6749]</td>\n",
       "    </tr>\n",
       "    <tr>\n",
       "      <th>6</th>\n",
       "      <td>7914725068567</td>\n",
       "      <td>1751294280968</td>\n",
       "      <td>1751294280960</td>\n",
       "      <td>[0.1491700, 12697]</td>\n",
       "      <td>[0.1493000, 17402]</td>\n",
       "    </tr>\n",
       "    <tr>\n",
       "      <th>7</th>\n",
       "      <td>7914725068567</td>\n",
       "      <td>1751294280968</td>\n",
       "      <td>1751294280960</td>\n",
       "      <td>[0.1491600, 15254]</td>\n",
       "      <td>[0.1493100, 25096]</td>\n",
       "    </tr>\n",
       "    <tr>\n",
       "      <th>8</th>\n",
       "      <td>7914725068567</td>\n",
       "      <td>1751294280968</td>\n",
       "      <td>1751294280960</td>\n",
       "      <td>[0.1491500, 39508]</td>\n",
       "      <td>[0.1493200, 11834]</td>\n",
       "    </tr>\n",
       "    <tr>\n",
       "      <th>9</th>\n",
       "      <td>7914725068567</td>\n",
       "      <td>1751294280968</td>\n",
       "      <td>1751294280960</td>\n",
       "      <td>[0.1491400, 23429]</td>\n",
       "      <td>[0.1493300, 27161]</td>\n",
       "    </tr>\n",
       "  </tbody>\n",
       "</table>\n",
       "</div>"
      ],
      "text/plain": [
       "    lastUpdateId              E              T                bids  \\\n",
       "0  7914725068567  1751294280968  1751294280960   [0.1492300, 2314]   \n",
       "1  7914725068567  1751294280968  1751294280960   [0.1492200, 2052]   \n",
       "2  7914725068567  1751294280968  1751294280960   [0.1492100, 7906]   \n",
       "3  7914725068567  1751294280968  1751294280960  [0.1492000, 13918]   \n",
       "4  7914725068567  1751294280968  1751294280960   [0.1491900, 9315]   \n",
       "5  7914725068567  1751294280968  1751294280960  [0.1491800, 25786]   \n",
       "6  7914725068567  1751294280968  1751294280960  [0.1491700, 12697]   \n",
       "7  7914725068567  1751294280968  1751294280960  [0.1491600, 15254]   \n",
       "8  7914725068567  1751294280968  1751294280960  [0.1491500, 39508]   \n",
       "9  7914725068567  1751294280968  1751294280960  [0.1491400, 23429]   \n",
       "\n",
       "                 asks  \n",
       "0   [0.1492400, 1686]  \n",
       "1   [0.1492500, 1815]  \n",
       "2   [0.1492600, 3086]  \n",
       "3   [0.1492700, 3499]  \n",
       "4   [0.1492800, 7455]  \n",
       "5   [0.1492900, 6749]  \n",
       "6  [0.1493000, 17402]  \n",
       "7  [0.1493100, 25096]  \n",
       "8  [0.1493200, 11834]  \n",
       "9  [0.1493300, 27161]  "
      ]
     },
     "execution_count": 10,
     "metadata": {},
     "output_type": "execute_result"
    }
   ],
   "source": [
    "df.head(10)"
   ]
  },
  {
   "cell_type": "markdown",
   "id": "669ec727",
   "metadata": {},
   "source": [
    "### WebSockets"
   ]
  },
  {
   "cell_type": "markdown",
   "id": "43a4113d",
   "metadata": {},
   "source": [
    "#### Функции для подключения"
   ]
  },
  {
   "cell_type": "code",
   "execution_count": 20,
   "id": "419445c3",
   "metadata": {},
   "outputs": [],
   "source": [
    "def start_Socket(handler):\n",
    "    '''\n",
    "    Запуск сокета\n",
    "    '''\n",
    "    my_client = UMFuturesWebsocketClient(on_message = handler)\n",
    "    try:\n",
    "        my_client.diff_book_depth(\n",
    "        symbol=\"moodengusdt\",\n",
    "        speed=20,\n",
    "        id=1)\n",
    "        time.sleep(5)\n",
    "        logging.debug(\"closing ws connection\")\n",
    "        my_client.stop()\n",
    "        \n",
    "    except:\n",
    "        time.sleep(2)\n",
    "        logging.debug(\"connection restart\")\n",
    "        my_client.diff_book_depth(\n",
    "        symbol=\"moodengusdt\",\n",
    "        speed=20,\n",
    "        id=1)\n",
    "        time.sleep(15000)\n",
    "        logging.debug(\"closing ws connection\")\n",
    "        my_client.stop()\n"
   ]
  },
  {
   "cell_type": "code",
   "execution_count": 12,
   "id": "1875e598",
   "metadata": {},
   "outputs": [],
   "source": [
    "data = []"
   ]
  },
  {
   "cell_type": "code",
   "execution_count": 13,
   "id": "9dfc2388",
   "metadata": {},
   "outputs": [],
   "source": [
    "def handler_debug(_, message):\n",
    "    \"\"\"\n",
    "    Вывод всей инф стакана\n",
    "    \"\"\"\n",
    "    if json.loads(message)['e'] == 'depthUpdate':\n",
    "        data.append(message)\n",
    "        print(message)"
   ]
  },
  {
   "cell_type": "code",
   "execution_count": 14,
   "id": "858fb632",
   "metadata": {},
   "outputs": [],
   "source": [
    "def handler_orderbook_update(_, message):\n",
    "    \"\"\"\n",
    "    Предобработка данных стакана\n",
    "    \"\"\"\n",
    "    if json.loads(message)['e'] == 'depthUpdate':\n",
    "        try:\n",
    "            bids = [float(b[1]) for b in json.loads(message)['b']][::-1][:10]\n",
    "            asks = [float(a[1]) for a in json.loads(message)['a']][:10]\n",
    "            mid_price = [(float(json.loads(message)['a'][-1][0]) + float(json.loads(message)['b'][::-1][0][0])) / 2] \n",
    "            total_feat = mid_price + asks + bids \n",
    "            df_row = pd.DataFrame(total_feat).T\n",
    "            df_row.columns = ['mid_price', 'ask_1', 'ask_2', 'ask_3', 'ask_4', 'ask_5', 'ask_6', 'ask_7', 'ask_8', 'ask_9', 'ask_10', \n",
    "                        'bid_1', 'bid_2', 'bid_3', 'bid_4', 'bid_5', 'bid_6', 'bid_7', 'bid_8', 'bid_9', 'bid_10']\n",
    "            data.append(df_row)\n",
    "            #print(message)\n",
    "        except:\n",
    "            df_row = pd.DataFrame()  \n",
    "            data.append(df_row)\n",
    "            print(message)  "
   ]
  },
  {
   "cell_type": "markdown",
   "id": "244f42f8",
   "metadata": {},
   "source": [
    "#### Запуск сбора данных"
   ]
  },
  {
   "cell_type": "code",
   "execution_count": 21,
   "id": "7265fa60",
   "metadata": {},
   "outputs": [
    {
     "name": "stderr",
     "output_type": "stream",
     "text": [
      "ERROR:binance.websocket.websocket_client:Error from callback <function handler_orderbook_update at 0x000002467F453400>: 'e'\n",
      "WARNING:binance.websocket.websocket_client:CLOSE frame received, closing websocket connection\n"
     ]
    }
   ],
   "source": [
    "start_Socket(handler_orderbook_update)"
   ]
  },
  {
   "cell_type": "markdown",
   "id": "0d0c7bba",
   "metadata": {},
   "source": [
    "#### Получение датафрейма"
   ]
  },
  {
   "cell_type": "code",
   "execution_count": 22,
   "id": "476e94dd",
   "metadata": {},
   "outputs": [],
   "source": [
    "ds_ws = pd.concat(data).reset_index(drop=True)"
   ]
  },
  {
   "cell_type": "code",
   "execution_count": 23,
   "id": "475b9399",
   "metadata": {},
   "outputs": [
    {
     "data": {
      "text/plain": [
       "(7, 21)"
      ]
     },
     "execution_count": 23,
     "metadata": {},
     "output_type": "execute_result"
    }
   ],
   "source": [
    "ds_ws.shape"
   ]
  },
  {
   "cell_type": "code",
   "execution_count": 24,
   "id": "bda539f6",
   "metadata": {},
   "outputs": [
    {
     "data": {
      "text/html": [
       "<div>\n",
       "<style scoped>\n",
       "    .dataframe tbody tr th:only-of-type {\n",
       "        vertical-align: middle;\n",
       "    }\n",
       "\n",
       "    .dataframe tbody tr th {\n",
       "        vertical-align: top;\n",
       "    }\n",
       "\n",
       "    .dataframe thead th {\n",
       "        text-align: right;\n",
       "    }\n",
       "</style>\n",
       "<table border=\"1\" class=\"dataframe\">\n",
       "  <thead>\n",
       "    <tr style=\"text-align: right;\">\n",
       "      <th></th>\n",
       "      <th>mid_price</th>\n",
       "      <th>ask_1</th>\n",
       "      <th>ask_2</th>\n",
       "      <th>ask_3</th>\n",
       "      <th>ask_4</th>\n",
       "      <th>ask_5</th>\n",
       "      <th>ask_6</th>\n",
       "      <th>ask_7</th>\n",
       "      <th>ask_8</th>\n",
       "      <th>ask_9</th>\n",
       "      <th>ask_10</th>\n",
       "      <th>bid_1</th>\n",
       "      <th>bid_2</th>\n",
       "      <th>bid_3</th>\n",
       "      <th>bid_4</th>\n",
       "      <th>bid_5</th>\n",
       "      <th>bid_6</th>\n",
       "      <th>bid_7</th>\n",
       "      <th>bid_8</th>\n",
       "      <th>bid_9</th>\n",
       "      <th>bid_10</th>\n",
       "    </tr>\n",
       "  </thead>\n",
       "  <tbody>\n",
       "    <tr>\n",
       "      <th>0</th>\n",
       "      <td>0.150710</td>\n",
       "      <td>0.0</td>\n",
       "      <td>0.0</td>\n",
       "      <td>902.0</td>\n",
       "      <td>4176.0</td>\n",
       "      <td>4773.0</td>\n",
       "      <td>7895.0</td>\n",
       "      <td>11128.0</td>\n",
       "      <td>12746.0</td>\n",
       "      <td>29624.0</td>\n",
       "      <td>25263.0</td>\n",
       "      <td>0.0</td>\n",
       "      <td>5865.0</td>\n",
       "      <td>9496.0</td>\n",
       "      <td>9684.0</td>\n",
       "      <td>7727.0</td>\n",
       "      <td>17256.0</td>\n",
       "      <td>22130.0</td>\n",
       "      <td>25754.0</td>\n",
       "      <td>18185.0</td>\n",
       "      <td>14448.0</td>\n",
       "    </tr>\n",
       "    <tr>\n",
       "      <th>1</th>\n",
       "      <td>0.149645</td>\n",
       "      <td>774.0</td>\n",
       "      <td>4387.0</td>\n",
       "      <td>10051.0</td>\n",
       "      <td>16986.0</td>\n",
       "      <td>19842.0</td>\n",
       "      <td>23623.0</td>\n",
       "      <td>21411.0</td>\n",
       "      <td>27807.0</td>\n",
       "      <td>31722.0</td>\n",
       "      <td>26810.0</td>\n",
       "      <td>0.0</td>\n",
       "      <td>4868.0</td>\n",
       "      <td>2350.0</td>\n",
       "      <td>2046.0</td>\n",
       "      <td>7623.0</td>\n",
       "      <td>14614.0</td>\n",
       "      <td>15400.0</td>\n",
       "      <td>13609.0</td>\n",
       "      <td>20472.0</td>\n",
       "      <td>26055.0</td>\n",
       "    </tr>\n",
       "  </tbody>\n",
       "</table>\n",
       "</div>"
      ],
      "text/plain": [
       "   mid_price  ask_1   ask_2    ask_3    ask_4    ask_5    ask_6    ask_7  \\\n",
       "0   0.150710    0.0     0.0    902.0   4176.0   4773.0   7895.0  11128.0   \n",
       "1   0.149645  774.0  4387.0  10051.0  16986.0  19842.0  23623.0  21411.0   \n",
       "\n",
       "     ask_8    ask_9   ask_10  bid_1   bid_2   bid_3   bid_4   bid_5    bid_6  \\\n",
       "0  12746.0  29624.0  25263.0    0.0  5865.0  9496.0  9684.0  7727.0  17256.0   \n",
       "1  27807.0  31722.0  26810.0    0.0  4868.0  2350.0  2046.0  7623.0  14614.0   \n",
       "\n",
       "     bid_7    bid_8    bid_9   bid_10  \n",
       "0  22130.0  25754.0  18185.0  14448.0  \n",
       "1  15400.0  13609.0  20472.0  26055.0  "
      ]
     },
     "execution_count": 24,
     "metadata": {},
     "output_type": "execute_result"
    }
   ],
   "source": [
    "ds_ws.head(2)"
   ]
  },
  {
   "cell_type": "markdown",
   "id": "9d22e00b",
   "metadata": {},
   "source": [
    "#### Выгрузка датафрейма"
   ]
  },
  {
   "cell_type": "code",
   "execution_count": 25,
   "id": "1fa74311",
   "metadata": {},
   "outputs": [],
   "source": [
    "ds_ws.to_csv('ds_moodeng_13.csv', index = False)"
   ]
  },
  {
   "cell_type": "code",
   "execution_count": null,
   "id": "6ed8931f",
   "metadata": {},
   "outputs": [],
   "source": []
  }
 ],
 "metadata": {
  "kernelspec": {
   "display_name": "Python 3",
   "language": "python",
   "name": "python3"
  },
  "language_info": {
   "codemirror_mode": {
    "name": "ipython",
    "version": 3
   },
   "file_extension": ".py",
   "mimetype": "text/x-python",
   "name": "python",
   "nbconvert_exporter": "python",
   "pygments_lexer": "ipython3",
   "version": "3.10.10"
  }
 },
 "nbformat": 4,
 "nbformat_minor": 5
}
